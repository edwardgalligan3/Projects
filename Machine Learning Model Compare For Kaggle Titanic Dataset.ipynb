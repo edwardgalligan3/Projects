{
 "cells": [
  {
   "cell_type": "markdown",
   "id": "desirable-shell",
   "metadata": {},
   "source": [
    "## Titanic Exploratory Data Analytics, Machine Learning Model Tuning and Evaluations\n",
    "\n",
    "This work spawned from the legendary Kaggle - Titanic competition. The competition is simple: use machine learning to create a model that predicts which passengers survived the Titanic shipwreck based on the dataset provided. This workbook provides data wrangling, feature engineering, model comparisons and selection with alternative approaches compared along the way. \n",
    "\n",
    "On April 15, 1912, during her maiden voyage, the widely considered “unsinkable” RMS Titanic sank after colliding with an iceberg. Unfortunately, there weren’t enough lifeboats for everyone onboard, resulting in the death of 68% of the passengers and crew. While there was some element of luck involved in surviving, it seems some groups of people were more likely to survive than others. Specifically, the women, children and upper-class passengers. \n",
    " - This exercise is a supervised learning classification problem. \n",
    "\n",
    "Supervised learning describes a type of problem that involves using a model to learn a mapping between input examples and the target variable. \n",
    " - Applications in which the training data comprises examples of the input vectors along with their corresponding target vectors are known as supervised learning problems. \n",
    "  - Page 3, Pattern Recognition and Machine Learning, 2006.\n",
    "\n",
    "Models are fit on training data comprised of inputs and outputs and used to make predictions on test sets where only the inputs are provided and the outputs from the model are compared to the withheld target variables and used to estimate the skill of the model.\n",
    " - Learning is a search through the space of possible hypotheses for one that will perform well, even on new examples beyond the training set. To measure the accuracy of a hypothesis we give it a test set of examples that are distinct from the training set.\n",
    "  - Page 695, Artificial Intelligence: A Modern Approach, 3rd edition, 2015.\n",
    "\n",
    "There are two main types of supervised learning problems:\n",
    " - Classification: Supervised learning problem that involves predicting a class label.\n",
    " - Regression: Supervised learning problem that involves predicting a numerical label.\n",
    " \n",
    "Supervised learning quotes from Jason Brownlee's site referenced in Inspirations section.\n",
    "\n",
    "<h1></span> Outline:</h1>\n",
    "<ul>\n",
    "    <li><b><a href=\"#Phase I\">Phase I - Data Wrangling and Feature Engineering<a/></b>\n",
    "        <ul>\n",
    "            <li><a href=\"#head-1\">Data Wrangling</a>\n",
    "            <li><a href=\"#head-2\">Feature Engineering</a>  \n",
    "                <ul>\n",
    "                    <li><a href=\"#head-2-1\">Create New Features</a>\n",
    "                    <li><a href=\"#head-2-2\">Correlation Matrix</a>\n",
    "                </ul>\n",
    "        </ul>\n",
    "    <li><b><a href=\"#Phase II\">Phase II - Machine Learning Model Predictions and Comparisons</a></b>\n",
    "        <ul>\n",
    "            <li><a href=\"#prep_ml\">ML Model Comparisons</a>\n",
    "            <li><a href=\"#ml_models\">ROC and K-Fold CV Model Comparison Results</a>\n",
    "            </ul>"
   ]
  },
  {
   "cell_type": "markdown",
   "id": "a417110f",
   "metadata": {},
   "source": [
    "<h1>Phase I - Data Wrangling and Feature Engineering</h1>\n",
    "<a id=\"Phase I\"></a>"
   ]
  },
  {
   "cell_type": "markdown",
   "id": "increased-arrival",
   "metadata": {},
   "source": [
    "## Begin the Journey ... Load Libraries, Modules, and Data"
   ]
  },
  {
   "cell_type": "code",
   "execution_count": 1,
   "id": "fluid-stability",
   "metadata": {},
   "outputs": [
    {
     "name": "stdout",
     "output_type": "stream",
     "text": [
      "['untitled folder', 'EDA_Feat_Eng_ModelEval_Trim.ipynb', 'Machine Learning Model Compare For Kaggle Titanic Dataset.ipynb', 'test.csv', 'submission.csv', 'PreKagA.ipynb', 'KagTitanicSub.csv', 'Kad_EDA_RF_GBM.ipynb', 'train.csv', '.ipynb_checkpoints', 'gender_submission.csv']\n"
     ]
    }
   ],
   "source": [
    "# Data Exploration\n",
    "import pandas as pd \n",
    "import numpy as np \n",
    "from numpy import mean\n",
    "from numpy import std\n",
    "np.random.seed(10)\n",
    "import plotly as py\n",
    "\n",
    "\n",
    "# machine learning\n",
    "import sklearn\n",
    "import xgboost # may need to install\n",
    "from sklearn.datasets import make_classification\n",
    "from sklearn.ensemble import RandomForestClassifier, RandomForestRegressor, GradientBoostingClassifier, AdaBoostClassifier\n",
    "from sklearn.inspection import permutation_importance\n",
    "from sklearn.neighbors import KNeighborsClassifier\n",
    "from sklearn.naive_bayes import GaussianNB\n",
    "from sklearn.linear_model import Perceptron, SGDClassifier, LogisticRegression\n",
    "from sklearn.tree import DecisionTreeClassifier\n",
    "from sklearn.metrics import auc, accuracy_score, confusion_matrix, mean_squared_error\n",
    "from sklearn.metrics import roc_curve, roc_auc_score\n",
    "from sklearn.model_selection import cross_val_score, GridSearchCV, KFold, RandomizedSearchCV, train_test_split\n",
    "from sklearn.model_selection import RepeatedStratifiedKFold, cross_validate\n",
    "from xgboost import XGBClassifier\n",
    "\n",
    "# Visualization\n",
    "import seaborn as sns\n",
    "from matplotlib import pyplot as plt\n",
    "sns.set_style(\"whitegrid\")\n",
    "%matplotlib inline\n",
    "\n",
    "import warnings\n",
    "warnings.filterwarnings(\"ignore\")\n",
    "\n",
    "import os \n",
    "print(os.listdir())"
   ]
  },
  {
   "cell_type": "markdown",
   "id": "civilian-editing",
   "metadata": {},
   "source": [
    "##  Data Wrangling <a class=\"anchor\" id=\"head-1\"></a>"
   ]
  },
  {
   "cell_type": "code",
   "execution_count": 2,
   "id": "balanced-medium",
   "metadata": {},
   "outputs": [],
   "source": [
    "#Read csv files\n",
    "training = pd.read_csv(\"train.csv\")\n",
    "testing = pd.read_csv(\"test.csv\")\n",
    "combined = [training, testing] # combined to simplify combined operations to both sets"
   ]
  },
  {
   "cell_type": "markdown",
   "id": "e684fa87",
   "metadata": {},
   "source": [
    "### We're provided with 12 features in the Train data and 11 in the Test data (Less \"Survived\" Target Variable)\n",
    "\n",
    "<ul>\n",
    "    <li>PassengerId : Passenger Id\n",
    "    <li>Age : Passenger Age\n",
    "    <li>Sex : Passenger Sex\n",
    "    <li>Name : Passenger Name\n",
    "    <li>Embarked : \n",
    "        <ul>\n",
    "            <li>Southampton\n",
    "            <li>Cherbourg\n",
    "            <li>Queenstown\n",
    "        </ul>\n",
    "    <li>Parch : Number of Parents/Children Aboard\n",
    "    <li>SibSp : Number of Siblings/Spouses Aboard\n",
    "    <li>Fare :  Fare\n",
    "    <li>Ticket : Ticket Number\n",
    "    <li>Cabin : Cabin\n",
    "    <li>Pclass : \n",
    "        <ul>\n",
    "            <li>1 = 1st\n",
    "            <li>2 = 2nd\n",
    "            <li>3 = 3rd\n",
    "        </ul>\n",
    "    <li>Survived :\n",
    "        <ul>\n",
    "            <li>1 for Survived \n",
    "            <li>0 for Not-Survived\n",
    "        </ul>\n",
    "    </ul>\n",
    "\n",
    "\n",
    "\n"
   ]
  },
  {
   "cell_type": "code",
   "execution_count": 3,
   "id": "cheap-terrain",
   "metadata": {},
   "outputs": [
    {
     "data": {
      "text/html": [
       "<div>\n",
       "<style scoped>\n",
       "    .dataframe tbody tr th:only-of-type {\n",
       "        vertical-align: middle;\n",
       "    }\n",
       "\n",
       "    .dataframe tbody tr th {\n",
       "        vertical-align: top;\n",
       "    }\n",
       "\n",
       "    .dataframe thead th {\n",
       "        text-align: right;\n",
       "    }\n",
       "</style>\n",
       "<table border=\"1\" class=\"dataframe\">\n",
       "  <thead>\n",
       "    <tr style=\"text-align: right;\">\n",
       "      <th></th>\n",
       "      <th>PassengerId</th>\n",
       "      <th>Survived</th>\n",
       "      <th>Pclass</th>\n",
       "      <th>Name</th>\n",
       "      <th>Sex</th>\n",
       "      <th>Age</th>\n",
       "      <th>SibSp</th>\n",
       "      <th>Parch</th>\n",
       "      <th>Ticket</th>\n",
       "      <th>Fare</th>\n",
       "      <th>Cabin</th>\n",
       "      <th>Embarked</th>\n",
       "    </tr>\n",
       "  </thead>\n",
       "  <tbody>\n",
       "    <tr>\n",
       "      <th>0</th>\n",
       "      <td>1</td>\n",
       "      <td>0</td>\n",
       "      <td>3</td>\n",
       "      <td>Braund, Mr. Owen Harris</td>\n",
       "      <td>male</td>\n",
       "      <td>22.0</td>\n",
       "      <td>1</td>\n",
       "      <td>0</td>\n",
       "      <td>A/5 21171</td>\n",
       "      <td>7.2500</td>\n",
       "      <td>NaN</td>\n",
       "      <td>S</td>\n",
       "    </tr>\n",
       "    <tr>\n",
       "      <th>1</th>\n",
       "      <td>2</td>\n",
       "      <td>1</td>\n",
       "      <td>1</td>\n",
       "      <td>Cumings, Mrs. John Bradley (Florence Briggs Th...</td>\n",
       "      <td>female</td>\n",
       "      <td>38.0</td>\n",
       "      <td>1</td>\n",
       "      <td>0</td>\n",
       "      <td>PC 17599</td>\n",
       "      <td>71.2833</td>\n",
       "      <td>C85</td>\n",
       "      <td>C</td>\n",
       "    </tr>\n",
       "    <tr>\n",
       "      <th>2</th>\n",
       "      <td>3</td>\n",
       "      <td>1</td>\n",
       "      <td>3</td>\n",
       "      <td>Heikkinen, Miss. Laina</td>\n",
       "      <td>female</td>\n",
       "      <td>26.0</td>\n",
       "      <td>0</td>\n",
       "      <td>0</td>\n",
       "      <td>STON/O2. 3101282</td>\n",
       "      <td>7.9250</td>\n",
       "      <td>NaN</td>\n",
       "      <td>S</td>\n",
       "    </tr>\n",
       "    <tr>\n",
       "      <th>3</th>\n",
       "      <td>4</td>\n",
       "      <td>1</td>\n",
       "      <td>1</td>\n",
       "      <td>Futrelle, Mrs. Jacques Heath (Lily May Peel)</td>\n",
       "      <td>female</td>\n",
       "      <td>35.0</td>\n",
       "      <td>1</td>\n",
       "      <td>0</td>\n",
       "      <td>113803</td>\n",
       "      <td>53.1000</td>\n",
       "      <td>C123</td>\n",
       "      <td>S</td>\n",
       "    </tr>\n",
       "    <tr>\n",
       "      <th>4</th>\n",
       "      <td>5</td>\n",
       "      <td>0</td>\n",
       "      <td>3</td>\n",
       "      <td>Allen, Mr. William Henry</td>\n",
       "      <td>male</td>\n",
       "      <td>35.0</td>\n",
       "      <td>0</td>\n",
       "      <td>0</td>\n",
       "      <td>373450</td>\n",
       "      <td>8.0500</td>\n",
       "      <td>NaN</td>\n",
       "      <td>S</td>\n",
       "    </tr>\n",
       "  </tbody>\n",
       "</table>\n",
       "</div>"
      ],
      "text/plain": [
       "   PassengerId  Survived  Pclass  \\\n",
       "0            1         0       3   \n",
       "1            2         1       1   \n",
       "2            3         1       3   \n",
       "3            4         1       1   \n",
       "4            5         0       3   \n",
       "\n",
       "                                                Name     Sex   Age  SibSp  \\\n",
       "0                            Braund, Mr. Owen Harris    male  22.0      1   \n",
       "1  Cumings, Mrs. John Bradley (Florence Briggs Th...  female  38.0      1   \n",
       "2                             Heikkinen, Miss. Laina  female  26.0      0   \n",
       "3       Futrelle, Mrs. Jacques Heath (Lily May Peel)  female  35.0      1   \n",
       "4                           Allen, Mr. William Henry    male  35.0      0   \n",
       "\n",
       "   Parch            Ticket     Fare Cabin Embarked  \n",
       "0      0         A/5 21171   7.2500   NaN        S  \n",
       "1      0          PC 17599  71.2833   C85        C  \n",
       "2      0  STON/O2. 3101282   7.9250   NaN        S  \n",
       "3      0            113803  53.1000  C123        S  \n",
       "4      0            373450   8.0500   NaN        S  "
      ]
     },
     "execution_count": 3,
     "metadata": {},
     "output_type": "execute_result"
    }
   ],
   "source": [
    "# View Top Rows\n",
    "training.head()"
   ]
  },
  {
   "cell_type": "code",
   "execution_count": 4,
   "id": "french-indie",
   "metadata": {},
   "outputs": [
    {
     "name": "stdout",
     "output_type": "stream",
     "text": [
      "<class 'pandas.core.frame.DataFrame'>\n",
      "RangeIndex: 891 entries, 0 to 890\n",
      "Data columns (total 12 columns):\n",
      " #   Column       Non-Null Count  Dtype  \n",
      "---  ------       --------------  -----  \n",
      " 0   PassengerId  891 non-null    int64  \n",
      " 1   Survived     891 non-null    int64  \n",
      " 2   Pclass       891 non-null    int64  \n",
      " 3   Name         891 non-null    object \n",
      " 4   Sex          891 non-null    object \n",
      " 5   Age          714 non-null    float64\n",
      " 6   SibSp        891 non-null    int64  \n",
      " 7   Parch        891 non-null    int64  \n",
      " 8   Ticket       891 non-null    object \n",
      " 9   Fare         891 non-null    float64\n",
      " 10  Cabin        204 non-null    object \n",
      " 11  Embarked     889 non-null    object \n",
      "dtypes: float64(2), int64(5), object(5)\n",
      "memory usage: 83.7+ KB\n"
     ]
    }
   ],
   "source": [
    "#Review for Nulls / NANs\n",
    "training.info()   # 3 Features have NANs; 'Age', 'Cabin', 'Embarked' "
   ]
  },
  {
   "cell_type": "code",
   "execution_count": 5,
   "id": "shaped-dispute",
   "metadata": {},
   "outputs": [
    {
     "name": "stdout",
     "output_type": "stream",
     "text": [
      "<class 'pandas.core.frame.DataFrame'>\n",
      "RangeIndex: 418 entries, 0 to 417\n",
      "Data columns (total 11 columns):\n",
      " #   Column       Non-Null Count  Dtype  \n",
      "---  ------       --------------  -----  \n",
      " 0   PassengerId  418 non-null    int64  \n",
      " 1   Pclass       418 non-null    int64  \n",
      " 2   Name         418 non-null    object \n",
      " 3   Sex          418 non-null    object \n",
      " 4   Age          332 non-null    float64\n",
      " 5   SibSp        418 non-null    int64  \n",
      " 6   Parch        418 non-null    int64  \n",
      " 7   Ticket       418 non-null    object \n",
      " 8   Fare         417 non-null    float64\n",
      " 9   Cabin        91 non-null     object \n",
      " 10  Embarked     418 non-null    object \n",
      "dtypes: float64(2), int64(4), object(5)\n",
      "memory usage: 36.0+ KB\n"
     ]
    }
   ],
   "source": [
    "#Review Testing Dataset\n",
    "testing.info()    # 3 Features with NaNs; 'Age', 'Fare', 'Cabin'"
   ]
  },
  {
   "cell_type": "code",
   "execution_count": 6,
   "id": "ranking-spread",
   "metadata": {},
   "outputs": [
    {
     "data": {
      "text/html": [
       "<div>\n",
       "<style scoped>\n",
       "    .dataframe tbody tr th:only-of-type {\n",
       "        vertical-align: middle;\n",
       "    }\n",
       "\n",
       "    .dataframe tbody tr th {\n",
       "        vertical-align: top;\n",
       "    }\n",
       "\n",
       "    .dataframe thead th {\n",
       "        text-align: right;\n",
       "    }\n",
       "</style>\n",
       "<table border=\"1\" class=\"dataframe\">\n",
       "  <thead>\n",
       "    <tr style=\"text-align: right;\">\n",
       "      <th></th>\n",
       "      <th>PassengerId</th>\n",
       "      <th>Survived</th>\n",
       "      <th>Pclass</th>\n",
       "      <th>Name</th>\n",
       "      <th>Sex</th>\n",
       "      <th>Age</th>\n",
       "      <th>SibSp</th>\n",
       "      <th>Parch</th>\n",
       "      <th>Ticket</th>\n",
       "      <th>Fare</th>\n",
       "      <th>Cabin</th>\n",
       "      <th>Embarked</th>\n",
       "    </tr>\n",
       "  </thead>\n",
       "  <tbody>\n",
       "    <tr>\n",
       "      <th>count</th>\n",
       "      <td>891.000000</td>\n",
       "      <td>891.000000</td>\n",
       "      <td>891.000000</td>\n",
       "      <td>891</td>\n",
       "      <td>891</td>\n",
       "      <td>714.000000</td>\n",
       "      <td>891.000000</td>\n",
       "      <td>891.000000</td>\n",
       "      <td>891</td>\n",
       "      <td>891.000000</td>\n",
       "      <td>204</td>\n",
       "      <td>889</td>\n",
       "    </tr>\n",
       "    <tr>\n",
       "      <th>unique</th>\n",
       "      <td>NaN</td>\n",
       "      <td>NaN</td>\n",
       "      <td>NaN</td>\n",
       "      <td>891</td>\n",
       "      <td>2</td>\n",
       "      <td>NaN</td>\n",
       "      <td>NaN</td>\n",
       "      <td>NaN</td>\n",
       "      <td>681</td>\n",
       "      <td>NaN</td>\n",
       "      <td>147</td>\n",
       "      <td>3</td>\n",
       "    </tr>\n",
       "    <tr>\n",
       "      <th>top</th>\n",
       "      <td>NaN</td>\n",
       "      <td>NaN</td>\n",
       "      <td>NaN</td>\n",
       "      <td>Palsson, Miss. Stina Viola</td>\n",
       "      <td>male</td>\n",
       "      <td>NaN</td>\n",
       "      <td>NaN</td>\n",
       "      <td>NaN</td>\n",
       "      <td>1601</td>\n",
       "      <td>NaN</td>\n",
       "      <td>B96 B98</td>\n",
       "      <td>S</td>\n",
       "    </tr>\n",
       "    <tr>\n",
       "      <th>freq</th>\n",
       "      <td>NaN</td>\n",
       "      <td>NaN</td>\n",
       "      <td>NaN</td>\n",
       "      <td>1</td>\n",
       "      <td>577</td>\n",
       "      <td>NaN</td>\n",
       "      <td>NaN</td>\n",
       "      <td>NaN</td>\n",
       "      <td>7</td>\n",
       "      <td>NaN</td>\n",
       "      <td>4</td>\n",
       "      <td>644</td>\n",
       "    </tr>\n",
       "    <tr>\n",
       "      <th>mean</th>\n",
       "      <td>446.000000</td>\n",
       "      <td>0.383838</td>\n",
       "      <td>2.308642</td>\n",
       "      <td>NaN</td>\n",
       "      <td>NaN</td>\n",
       "      <td>29.699118</td>\n",
       "      <td>0.523008</td>\n",
       "      <td>0.381594</td>\n",
       "      <td>NaN</td>\n",
       "      <td>32.204208</td>\n",
       "      <td>NaN</td>\n",
       "      <td>NaN</td>\n",
       "    </tr>\n",
       "    <tr>\n",
       "      <th>std</th>\n",
       "      <td>257.353842</td>\n",
       "      <td>0.486592</td>\n",
       "      <td>0.836071</td>\n",
       "      <td>NaN</td>\n",
       "      <td>NaN</td>\n",
       "      <td>14.526497</td>\n",
       "      <td>1.102743</td>\n",
       "      <td>0.806057</td>\n",
       "      <td>NaN</td>\n",
       "      <td>49.693429</td>\n",
       "      <td>NaN</td>\n",
       "      <td>NaN</td>\n",
       "    </tr>\n",
       "    <tr>\n",
       "      <th>min</th>\n",
       "      <td>1.000000</td>\n",
       "      <td>0.000000</td>\n",
       "      <td>1.000000</td>\n",
       "      <td>NaN</td>\n",
       "      <td>NaN</td>\n",
       "      <td>0.420000</td>\n",
       "      <td>0.000000</td>\n",
       "      <td>0.000000</td>\n",
       "      <td>NaN</td>\n",
       "      <td>0.000000</td>\n",
       "      <td>NaN</td>\n",
       "      <td>NaN</td>\n",
       "    </tr>\n",
       "    <tr>\n",
       "      <th>25%</th>\n",
       "      <td>223.500000</td>\n",
       "      <td>0.000000</td>\n",
       "      <td>2.000000</td>\n",
       "      <td>NaN</td>\n",
       "      <td>NaN</td>\n",
       "      <td>20.125000</td>\n",
       "      <td>0.000000</td>\n",
       "      <td>0.000000</td>\n",
       "      <td>NaN</td>\n",
       "      <td>7.910400</td>\n",
       "      <td>NaN</td>\n",
       "      <td>NaN</td>\n",
       "    </tr>\n",
       "    <tr>\n",
       "      <th>50%</th>\n",
       "      <td>446.000000</td>\n",
       "      <td>0.000000</td>\n",
       "      <td>3.000000</td>\n",
       "      <td>NaN</td>\n",
       "      <td>NaN</td>\n",
       "      <td>28.000000</td>\n",
       "      <td>0.000000</td>\n",
       "      <td>0.000000</td>\n",
       "      <td>NaN</td>\n",
       "      <td>14.454200</td>\n",
       "      <td>NaN</td>\n",
       "      <td>NaN</td>\n",
       "    </tr>\n",
       "    <tr>\n",
       "      <th>75%</th>\n",
       "      <td>668.500000</td>\n",
       "      <td>1.000000</td>\n",
       "      <td>3.000000</td>\n",
       "      <td>NaN</td>\n",
       "      <td>NaN</td>\n",
       "      <td>38.000000</td>\n",
       "      <td>1.000000</td>\n",
       "      <td>0.000000</td>\n",
       "      <td>NaN</td>\n",
       "      <td>31.000000</td>\n",
       "      <td>NaN</td>\n",
       "      <td>NaN</td>\n",
       "    </tr>\n",
       "    <tr>\n",
       "      <th>max</th>\n",
       "      <td>891.000000</td>\n",
       "      <td>1.000000</td>\n",
       "      <td>3.000000</td>\n",
       "      <td>NaN</td>\n",
       "      <td>NaN</td>\n",
       "      <td>80.000000</td>\n",
       "      <td>8.000000</td>\n",
       "      <td>6.000000</td>\n",
       "      <td>NaN</td>\n",
       "      <td>512.329200</td>\n",
       "      <td>NaN</td>\n",
       "      <td>NaN</td>\n",
       "    </tr>\n",
       "  </tbody>\n",
       "</table>\n",
       "</div>"
      ],
      "text/plain": [
       "        PassengerId    Survived      Pclass                        Name   Sex  \\\n",
       "count    891.000000  891.000000  891.000000                         891   891   \n",
       "unique          NaN         NaN         NaN                         891     2   \n",
       "top             NaN         NaN         NaN  Palsson, Miss. Stina Viola  male   \n",
       "freq            NaN         NaN         NaN                           1   577   \n",
       "mean     446.000000    0.383838    2.308642                         NaN   NaN   \n",
       "std      257.353842    0.486592    0.836071                         NaN   NaN   \n",
       "min        1.000000    0.000000    1.000000                         NaN   NaN   \n",
       "25%      223.500000    0.000000    2.000000                         NaN   NaN   \n",
       "50%      446.000000    0.000000    3.000000                         NaN   NaN   \n",
       "75%      668.500000    1.000000    3.000000                         NaN   NaN   \n",
       "max      891.000000    1.000000    3.000000                         NaN   NaN   \n",
       "\n",
       "               Age       SibSp       Parch Ticket        Fare    Cabin  \\\n",
       "count   714.000000  891.000000  891.000000    891  891.000000      204   \n",
       "unique         NaN         NaN         NaN    681         NaN      147   \n",
       "top            NaN         NaN         NaN   1601         NaN  B96 B98   \n",
       "freq           NaN         NaN         NaN      7         NaN        4   \n",
       "mean     29.699118    0.523008    0.381594    NaN   32.204208      NaN   \n",
       "std      14.526497    1.102743    0.806057    NaN   49.693429      NaN   \n",
       "min       0.420000    0.000000    0.000000    NaN    0.000000      NaN   \n",
       "25%      20.125000    0.000000    0.000000    NaN    7.910400      NaN   \n",
       "50%      28.000000    0.000000    0.000000    NaN   14.454200      NaN   \n",
       "75%      38.000000    1.000000    0.000000    NaN   31.000000      NaN   \n",
       "max      80.000000    8.000000    6.000000    NaN  512.329200      NaN   \n",
       "\n",
       "       Embarked  \n",
       "count       889  \n",
       "unique        3  \n",
       "top           S  \n",
       "freq        644  \n",
       "mean        NaN  \n",
       "std         NaN  \n",
       "min         NaN  \n",
       "25%         NaN  \n",
       "50%         NaN  \n",
       "75%         NaN  \n",
       "max         NaN  "
      ]
     },
     "execution_count": 6,
     "metadata": {},
     "output_type": "execute_result"
    }
   ],
   "source": [
    "training.describe(include=\"all\")"
   ]
  },
  {
   "cell_type": "markdown",
   "id": "representative-billion",
   "metadata": {},
   "source": [
    "### Assess missing data.  \n",
    "\n",
    "Describe (include = \"all\") option provides Count, Unique, Top, and Freq info for the 5 object Dtype features: \n",
    "Name, Sex, Ticket, Cabin, and Embarked features. Table also provides the quartile statistics for the Int64 and float64 Dtype features. We see that all 891 names are unique, 2 sex classifications, 681 of the 891 tickets are unique for the training dataset. For the Cabin column, 77%-78% are missing. Due to the high unique counts and large percent missing the Name, Ticket, and Cabin fields will be dropped and this is not expected to significantly impact result.\n",
    "\n",
    "Tables below confirm missing data amounts.\n",
    "\n"
   ]
  },
  {
   "cell_type": "code",
   "execution_count": 7,
   "id": "stainless-jenny",
   "metadata": {},
   "outputs": [
    {
     "name": "stdout",
     "output_type": "stream",
     "text": [
      "             column_name  number_missing  percent_missing (%)\n",
      "PassengerId  PassengerId               0                  0.0\n",
      "Survived        Survived               0                  0.0\n",
      "Pclass            Pclass               0                  0.0\n",
      "Name                Name               0                  0.0\n",
      "Sex                  Sex               0                  0.0\n",
      "Age                  Age             177                 19.9\n",
      "SibSp              SibSp               0                  0.0\n",
      "Parch              Parch               0                  0.0\n",
      "Ticket            Ticket               0                  0.0\n",
      "Fare                Fare               0                  0.0\n",
      "Cabin              Cabin             687                 77.1\n",
      "Embarked        Embarked               2                  0.2\n"
     ]
    }
   ],
   "source": [
    "percent_missing = training.isnull().sum() * 100 / len(training)\n",
    "number_missing = training.isnull().sum()\n",
    "missing_value_traindf = pd.DataFrame({'column_name': training.columns,\n",
    "                                 'number_missing' : number_missing,\n",
    "                                 'percent_missing (%)': percent_missing.round(1)})\n",
    "print(missing_value_traindf)"
   ]
  },
  {
   "cell_type": "code",
   "execution_count": 8,
   "id": "developing-sharing",
   "metadata": {
    "scrolled": false
   },
   "outputs": [
    {
     "name": "stdout",
     "output_type": "stream",
     "text": [
      "             column_name  number_missing  percent_missing (%)\n",
      "PassengerId  PassengerId               0                  0.0\n",
      "Pclass            Pclass               0                  0.0\n",
      "Name                Name               0                  0.0\n",
      "Sex                  Sex               0                  0.0\n",
      "Age                  Age              86                 20.6\n",
      "SibSp              SibSp               0                  0.0\n",
      "Parch              Parch               0                  0.0\n",
      "Ticket            Ticket               0                  0.0\n",
      "Fare                Fare               1                  0.2\n",
      "Cabin              Cabin             327                 78.2\n",
      "Embarked        Embarked               0                  0.0\n"
     ]
    }
   ],
   "source": [
    "percent_missingTest = testing.isnull().sum() * 100 / len(testing)\n",
    "number_missingTest = testing.isnull().sum()\n",
    "missing_valueTest_testdf = pd.DataFrame({'column_name':testing.columns,\n",
    "                                    'number_missing':number_missingTest,\n",
    "                                    'percent_missing (%)': percent_missingTest.round(1)})\n",
    "\n",
    "print(missing_valueTest_testdf)"
   ]
  },
  {
   "cell_type": "markdown",
   "id": "supposed-reggae",
   "metadata": {},
   "source": [
    "### Imputing Missing Data\n",
    "Machine learning algorithms prefer numeric inputs, as well as, values present for each row and column in a dataset.\n",
    "\n",
    "- Discarding entire rows and/or columns containing missing values comes at the price of losing data which may be valuable (even though incomplete). A better strategy is to impute the missing values, i.e., to infer them from the known part of the data. A popular approach involves statistical methods to calculate a value for a feature column from those values present, then replace the missing values with the calculated statistic.\n",
    " - Common statistics include the column: mean, median, mode, or another constant value.\n",
    "\n",
    "The training cabin variable has 77% missing values and 78% missing in the testing dataset, given most is missing, we'll remove the cabin feature from the data. The training dataset 'Ticket' feature has 681 unique values and will also be removed. For the Embarked column, the most frequent value (mode) is \"S\" and this will be used to replace the 2 missing values in the training dataset. There is one missing value in the Fare variable of the testing dataset and the median will be used to replace that value.\n",
    "\n",
    "#### Review distribution of the Age feature to determine best statistic for filling missing data."
   ]
  },
  {
   "cell_type": "code",
   "execution_count": 9,
   "id": "novel-lincoln",
   "metadata": {},
   "outputs": [
    {
     "data": {
      "text/plain": [
       "<AxesSubplot:xlabel='Age', ylabel='Density'>"
      ]
     },
     "execution_count": 9,
     "metadata": {},
     "output_type": "execute_result"
    },
    {
     "data": {
      "image/png": "[encoded data removed]",
      "text/plain": [
       "<Figure size 1152x432 with 3 Axes>"
      ]
     },
     "metadata": {
      "needs_background": "light"
     },
     "output_type": "display_data"
    }
   ],
   "source": [
    "fig, axs = plt.subplots(figsize=[16, 6], ncols=3)\n",
    "sns.scatterplot(data=training[\"Age\"], ax=axs[0])\n",
    "sns.boxplot(y=training[\"Age\"], ax=axs[1])\n",
    "sns.distplot(training[\"Age\"], ax=axs[2])"
   ]
  },
  {
   "cell_type": "markdown",
   "id": "dressed-prefix",
   "metadata": {},
   "source": [
    "### Review distribution of the Age feature of Test Dataset to confirm consistent for filling missing data."
   ]
  },
  {
   "cell_type": "code",
   "execution_count": 10,
   "id": "anonymous-mission",
   "metadata": {},
   "outputs": [
    {
     "data": {
      "text/plain": [
       "<AxesSubplot:xlabel='Age', ylabel='Density'>"
      ]
     },
     "execution_count": 10,
     "metadata": {},
     "output_type": "execute_result"
    },
    {
     "data": {
      "image/png": "[encoded data removed]",
      "text/plain": [
       "<Figure size 1152x432 with 3 Axes>"
      ]
     },
     "metadata": {
      "needs_background": "light"
     },
     "output_type": "display_data"
    }
   ],
   "source": [
    "fig, axs = plt.subplots(figsize=[16, 6], ncols=3)\n",
    "sns.scatterplot(data=testing[\"Age\"], ax=axs[0])\n",
    "sns.boxplot(y=testing[\"Age\"], ax=axs[1])\n",
    "sns.distplot(testing[\"Age\"], ax=axs[2])"
   ]
  },
  {
   "cell_type": "markdown",
   "id": "split-rendering",
   "metadata": {},
   "source": [
    " - Review of scatterplot, boxplot and distribution plot show the age feature is basically normal with a slight right skew for both the training and testing datasets. Seems reasonable to use the column median (for slight right skew) to replace NaNs."
   ]
  },
  {
   "cell_type": "code",
   "execution_count": 11,
   "id": "loose-nitrogen",
   "metadata": {},
   "outputs": [],
   "source": [
    "training[\"Age\"].fillna(training[\"Age\"].median(), inplace = True)\n",
    "testing[\"Age\"].fillna(testing[\"Age\"].median(), inplace = True) \n",
    "testing[\"Fare\"].fillna(testing[\"Fare\"].median(), inplace = True)"
   ]
  },
  {
   "cell_type": "markdown",
   "id": "directed-dividend",
   "metadata": {},
   "source": [
    " - As previously mentioned, we will drop the Cabin and Ticket features. Confirm shape of datasets after Cabin and Ticket features removed."
   ]
  },
  {
   "cell_type": "code",
   "execution_count": 12,
   "id": "binary-bridge",
   "metadata": {},
   "outputs": [
    {
     "name": "stdout",
     "output_type": "stream",
     "text": [
      "Before (891, 12) (418, 11) (891, 12) (418, 11)\n",
      "After (891, 10) (418, 9) (891, 10) (418, 9)\n"
     ]
    }
   ],
   "source": [
    "print(\"Before\", training.shape, testing.shape, combined[0].shape, combined[1].shape)\n",
    "\n",
    "training = training.drop(['Ticket', 'Cabin'], axis=1)\n",
    "testing = testing.drop(['Ticket', 'Cabin'], axis=1)\n",
    "combined = [training, testing]\n",
    "\n",
    "print(\"After\", training.shape, testing.shape, combined[0].shape, combined[1].shape)"
   ]
  },
  {
   "cell_type": "markdown",
   "id": "architectural-poker",
   "metadata": {},
   "source": [
    "### Convert categorical, strings, to numeric values\n",
    " - Let's start with the 'Embarked' and 'Sex' features. Making 'Sex' numeric also introduces a strong correlation between the 'Survived' with 'Sex' features."
   ]
  },
  {
   "cell_type": "code",
   "execution_count": 13,
   "id": "viral-jones",
   "metadata": {},
   "outputs": [],
   "source": [
    "combined = [training, testing]\n",
    "\n",
    "title_mapping = {\"S\": 0, \"C\": 1, \"Q\": 2}\n",
    "for dataset in combined:\n",
    "    dataset['Embarked'] = dataset['Embarked'].map(title_mapping)\n",
    "    dataset['Embarked'] = dataset['Embarked'].fillna(0)\n",
    "    dataset['Embarked'] = dataset['Embarked'].astype(int)"
   ]
  },
  {
   "cell_type": "code",
   "execution_count": 14,
   "id": "intelligent-vertical",
   "metadata": {},
   "outputs": [
    {
     "data": {
      "text/html": [
       "<div>\n",
       "<style scoped>\n",
       "    .dataframe tbody tr th:only-of-type {\n",
       "        vertical-align: middle;\n",
       "    }\n",
       "\n",
       "    .dataframe tbody tr th {\n",
       "        vertical-align: top;\n",
       "    }\n",
       "\n",
       "    .dataframe thead th {\n",
       "        text-align: right;\n",
       "    }\n",
       "</style>\n",
       "<table border=\"1\" class=\"dataframe\">\n",
       "  <thead>\n",
       "    <tr style=\"text-align: right;\">\n",
       "      <th></th>\n",
       "      <th>PassengerId</th>\n",
       "      <th>Survived</th>\n",
       "      <th>Pclass</th>\n",
       "      <th>Name</th>\n",
       "      <th>Sex</th>\n",
       "      <th>Age</th>\n",
       "      <th>SibSp</th>\n",
       "      <th>Parch</th>\n",
       "      <th>Fare</th>\n",
       "      <th>Embarked</th>\n",
       "    </tr>\n",
       "  </thead>\n",
       "  <tbody>\n",
       "    <tr>\n",
       "      <th>0</th>\n",
       "      <td>1</td>\n",
       "      <td>0</td>\n",
       "      <td>3</td>\n",
       "      <td>Braund, Mr. Owen Harris</td>\n",
       "      <td>0</td>\n",
       "      <td>22.0</td>\n",
       "      <td>1</td>\n",
       "      <td>0</td>\n",
       "      <td>7.2500</td>\n",
       "      <td>0</td>\n",
       "    </tr>\n",
       "    <tr>\n",
       "      <th>1</th>\n",
       "      <td>2</td>\n",
       "      <td>1</td>\n",
       "      <td>1</td>\n",
       "      <td>Cumings, Mrs. John Bradley (Florence Briggs Th...</td>\n",
       "      <td>1</td>\n",
       "      <td>38.0</td>\n",
       "      <td>1</td>\n",
       "      <td>0</td>\n",
       "      <td>71.2833</td>\n",
       "      <td>1</td>\n",
       "    </tr>\n",
       "    <tr>\n",
       "      <th>2</th>\n",
       "      <td>3</td>\n",
       "      <td>1</td>\n",
       "      <td>3</td>\n",
       "      <td>Heikkinen, Miss. Laina</td>\n",
       "      <td>1</td>\n",
       "      <td>26.0</td>\n",
       "      <td>0</td>\n",
       "      <td>0</td>\n",
       "      <td>7.9250</td>\n",
       "      <td>0</td>\n",
       "    </tr>\n",
       "    <tr>\n",
       "      <th>3</th>\n",
       "      <td>4</td>\n",
       "      <td>1</td>\n",
       "      <td>1</td>\n",
       "      <td>Futrelle, Mrs. Jacques Heath (Lily May Peel)</td>\n",
       "      <td>1</td>\n",
       "      <td>35.0</td>\n",
       "      <td>1</td>\n",
       "      <td>0</td>\n",
       "      <td>53.1000</td>\n",
       "      <td>0</td>\n",
       "    </tr>\n",
       "    <tr>\n",
       "      <th>4</th>\n",
       "      <td>5</td>\n",
       "      <td>0</td>\n",
       "      <td>3</td>\n",
       "      <td>Allen, Mr. William Henry</td>\n",
       "      <td>0</td>\n",
       "      <td>35.0</td>\n",
       "      <td>0</td>\n",
       "      <td>0</td>\n",
       "      <td>8.0500</td>\n",
       "      <td>0</td>\n",
       "    </tr>\n",
       "  </tbody>\n",
       "</table>\n",
       "</div>"
      ],
      "text/plain": [
       "   PassengerId  Survived  Pclass  \\\n",
       "0            1         0       3   \n",
       "1            2         1       1   \n",
       "2            3         1       3   \n",
       "3            4         1       1   \n",
       "4            5         0       3   \n",
       "\n",
       "                                                Name  Sex   Age  SibSp  Parch  \\\n",
       "0                            Braund, Mr. Owen Harris    0  22.0      1      0   \n",
       "1  Cumings, Mrs. John Bradley (Florence Briggs Th...    1  38.0      1      0   \n",
       "2                             Heikkinen, Miss. Laina    1  26.0      0      0   \n",
       "3       Futrelle, Mrs. Jacques Heath (Lily May Peel)    1  35.0      1      0   \n",
       "4                           Allen, Mr. William Henry    0  35.0      0      0   \n",
       "\n",
       "      Fare  Embarked  \n",
       "0   7.2500         0  \n",
       "1  71.2833         1  \n",
       "2   7.9250         0  \n",
       "3  53.1000         0  \n",
       "4   8.0500         0  "
      ]
     },
     "execution_count": 14,
     "metadata": {},
     "output_type": "execute_result"
    }
   ],
   "source": [
    "for dataset in combined:\n",
    "    dataset['Sex'] = dataset['Sex'].map({'female':1, 'male':0}).astype(int)\n",
    "    \n",
    "training.head()"
   ]
  },
  {
   "cell_type": "markdown",
   "id": "attractive-binding",
   "metadata": {},
   "source": [
    "### Create Datasets for Variable Importance Checkpoint and Feature Engineering Improvements\n",
    "We create the Evaluation datasets to compare model accuracy scores at this point in process with the additional feature engineering below to quantify the benefit of additional feature engineering."
   ]
  },
  {
   "cell_type": "code",
   "execution_count": 15,
   "id": "native-bouquet",
   "metadata": {},
   "outputs": [],
   "source": [
    "TrainEvalData = training\n",
    "TestEvalData = testing"
   ]
  },
  {
   "cell_type": "code",
   "execution_count": 16,
   "id": "reflected-answer",
   "metadata": {},
   "outputs": [
    {
     "data": {
      "text/plain": [
       "((891, 7), (891,), (418, 7))"
      ]
     },
     "execution_count": 16,
     "metadata": {},
     "output_type": "execute_result"
    }
   ],
   "source": [
    "#Drop non-numeric fields for analysis \n",
    "X_train_A = TrainEvalData.drop([\"Survived\", \"Name\", \"PassengerId\"], axis=1)\n",
    "Y_train_A = TrainEvalData[\"Survived\"]\n",
    "X_test_A = TestEvalData.drop([\"Name\", \"PassengerId\"], axis=1).copy()\n",
    "\n",
    "X_train_A.shape, Y_train_A.shape, X_test_A.shape"
   ]
  },
  {
   "cell_type": "markdown",
   "id": "4d1948da",
   "metadata": {},
   "source": [
    "##  Feature Engineering <a class=\"anchor\" id=\"head-2\"></a>"
   ]
  },
  {
   "cell_type": "markdown",
   "id": "broke-chance",
   "metadata": {},
   "source": [
    "## Initial Feature Importance Review (Random Forest) Plot - Checkpoint #1\n",
    "\n",
    "The feature importance plot describes which features are relevant. It can help with better understanding of the problem and sometimes lead to model improvements. Random Forest classifier is selected for feature importance. The features for internal nodes are selected, which for classification tasks can be gini impurity or infomation gain. We can measure how each feature decreases the impurity of the split (the feature with highest decrease is selected for internal node). For each feature we can collect how on average it decreases the impurity. The average over all trees in the forest is the measure of the feature importance. \n",
    "\n",
    "We'll review prior to additional feature engineering tasks for comparison (Checkpoint #1)"
   ]
  },
  {
   "cell_type": "code",
   "execution_count": 17,
   "id": "gross-ocean",
   "metadata": {},
   "outputs": [
    {
     "data": {
      "text/plain": [
       "Text(0.5, 1.0, 'Feature Importance (Checkpoint 1)')"
      ]
     },
     "execution_count": 17,
     "metadata": {},
     "output_type": "execute_result"
    },
    {
     "data": {
      "image/png": "[encoded data removed]",
      "text/plain": [
       "<Figure size 432x288 with 1 Axes>"
      ]
     },
     "metadata": {
      "needs_background": "light"
     },
     "output_type": "display_data"
    }
   ],
   "source": [
    "X = X_train_A\n",
    "y = Y_train_A\n",
    "\n",
    "# define the model\n",
    "model = RandomForestClassifier()\n",
    "model.fit(X, y)\n",
    "importance = model.feature_importances_\n",
    "# summarize feature importance\n",
    "feat_importances = pd.Series(model.feature_importances_, index=X.columns)\n",
    "feat_importances.nlargest(10).plot(kind='bar') # 7 Variables at this point, descending\n",
    "plt.xticks(rotation=0, horizontalalignment=\"center\")\n",
    "plt.title(\"Feature Importance (Checkpoint 1)\", fontsize=20)"
   ]
  },
  {
   "cell_type": "markdown",
   "id": "stupid-luxury",
   "metadata": {},
   "source": [
    "We see that the Fare, Sex, and Age features are relatively close in higher importance and the remaining features ranked less important. We'll compare this to after additional feature engineering is performed. \n",
    "\n",
    "### Continue feature engineering on training and testing datasets\n",
    "Recall the Name field had a title available for viewed records. We can extract to review potential of adding a Title feature."
   ]
  },
  {
   "cell_type": "code",
   "execution_count": 18,
   "id": "collected-scottish",
   "metadata": {},
   "outputs": [
    {
     "data": {
      "text/html": [
       "<div>\n",
       "<style scoped>\n",
       "    .dataframe tbody tr th:only-of-type {\n",
       "        vertical-align: middle;\n",
       "    }\n",
       "\n",
       "    .dataframe tbody tr th {\n",
       "        vertical-align: top;\n",
       "    }\n",
       "\n",
       "    .dataframe thead th {\n",
       "        text-align: right;\n",
       "    }\n",
       "</style>\n",
       "<table border=\"1\" class=\"dataframe\">\n",
       "  <thead>\n",
       "    <tr style=\"text-align: right;\">\n",
       "      <th>Sex</th>\n",
       "      <th>0</th>\n",
       "      <th>1</th>\n",
       "    </tr>\n",
       "    <tr>\n",
       "      <th>Title</th>\n",
       "      <th></th>\n",
       "      <th></th>\n",
       "    </tr>\n",
       "  </thead>\n",
       "  <tbody>\n",
       "    <tr>\n",
       "      <th>Capt</th>\n",
       "      <td>1</td>\n",
       "      <td>0</td>\n",
       "    </tr>\n",
       "    <tr>\n",
       "      <th>Col</th>\n",
       "      <td>2</td>\n",
       "      <td>0</td>\n",
       "    </tr>\n",
       "    <tr>\n",
       "      <th>Countess</th>\n",
       "      <td>0</td>\n",
       "      <td>1</td>\n",
       "    </tr>\n",
       "    <tr>\n",
       "      <th>Don</th>\n",
       "      <td>1</td>\n",
       "      <td>0</td>\n",
       "    </tr>\n",
       "    <tr>\n",
       "      <th>Dr</th>\n",
       "      <td>6</td>\n",
       "      <td>1</td>\n",
       "    </tr>\n",
       "    <tr>\n",
       "      <th>Jonkheer</th>\n",
       "      <td>1</td>\n",
       "      <td>0</td>\n",
       "    </tr>\n",
       "    <tr>\n",
       "      <th>Lady</th>\n",
       "      <td>0</td>\n",
       "      <td>1</td>\n",
       "    </tr>\n",
       "    <tr>\n",
       "      <th>Major</th>\n",
       "      <td>2</td>\n",
       "      <td>0</td>\n",
       "    </tr>\n",
       "    <tr>\n",
       "      <th>Master</th>\n",
       "      <td>40</td>\n",
       "      <td>0</td>\n",
       "    </tr>\n",
       "    <tr>\n",
       "      <th>Miss</th>\n",
       "      <td>0</td>\n",
       "      <td>182</td>\n",
       "    </tr>\n",
       "    <tr>\n",
       "      <th>Mlle</th>\n",
       "      <td>0</td>\n",
       "      <td>2</td>\n",
       "    </tr>\n",
       "    <tr>\n",
       "      <th>Mme</th>\n",
       "      <td>0</td>\n",
       "      <td>1</td>\n",
       "    </tr>\n",
       "    <tr>\n",
       "      <th>Mr</th>\n",
       "      <td>517</td>\n",
       "      <td>0</td>\n",
       "    </tr>\n",
       "    <tr>\n",
       "      <th>Mrs</th>\n",
       "      <td>0</td>\n",
       "      <td>125</td>\n",
       "    </tr>\n",
       "    <tr>\n",
       "      <th>Ms</th>\n",
       "      <td>0</td>\n",
       "      <td>1</td>\n",
       "    </tr>\n",
       "    <tr>\n",
       "      <th>Rev</th>\n",
       "      <td>6</td>\n",
       "      <td>0</td>\n",
       "    </tr>\n",
       "    <tr>\n",
       "      <th>Sir</th>\n",
       "      <td>1</td>\n",
       "      <td>0</td>\n",
       "    </tr>\n",
       "  </tbody>\n",
       "</table>\n",
       "</div>"
      ],
      "text/plain": [
       "Sex         0    1\n",
       "Title             \n",
       "Capt        1    0\n",
       "Col         2    0\n",
       "Countess    0    1\n",
       "Don         1    0\n",
       "Dr          6    1\n",
       "Jonkheer    1    0\n",
       "Lady        0    1\n",
       "Major       2    0\n",
       "Master     40    0\n",
       "Miss        0  182\n",
       "Mlle        0    2\n",
       "Mme         0    1\n",
       "Mr        517    0\n",
       "Mrs         0  125\n",
       "Ms          0    1\n",
       "Rev         6    0\n",
       "Sir         1    0"
      ]
     },
     "execution_count": 18,
     "metadata": {},
     "output_type": "execute_result"
    }
   ],
   "source": [
    "for dataset in combined:\n",
    "    dataset['Title'] = dataset.Name.str.extract(' ([A-Za-z]+)\\.', expand=False)\n",
    "    \n",
    "pd.crosstab(training['Title'], training['Sex'])"
   ]
  },
  {
   "cell_type": "markdown",
   "id": "handled-english",
   "metadata": {},
   "source": [
    "We'll combine low frequency titles into the created miscellaneous category to simplify along with a few others recategroized."
   ]
  },
  {
   "cell_type": "code",
   "execution_count": 19,
   "id": "featured-brisbane",
   "metadata": {},
   "outputs": [
    {
     "data": {
      "text/html": [
       "<div>\n",
       "<style scoped>\n",
       "    .dataframe tbody tr th:only-of-type {\n",
       "        vertical-align: middle;\n",
       "    }\n",
       "\n",
       "    .dataframe tbody tr th {\n",
       "        vertical-align: top;\n",
       "    }\n",
       "\n",
       "    .dataframe thead th {\n",
       "        text-align: right;\n",
       "    }\n",
       "</style>\n",
       "<table border=\"1\" class=\"dataframe\">\n",
       "  <thead>\n",
       "    <tr style=\"text-align: right;\">\n",
       "      <th></th>\n",
       "      <th>Title</th>\n",
       "      <th>Survived</th>\n",
       "    </tr>\n",
       "  </thead>\n",
       "  <tbody>\n",
       "    <tr>\n",
       "      <th>0</th>\n",
       "      <td>Master</td>\n",
       "      <td>0.575000</td>\n",
       "    </tr>\n",
       "    <tr>\n",
       "      <th>1</th>\n",
       "      <td>Misc</td>\n",
       "      <td>0.428571</td>\n",
       "    </tr>\n",
       "    <tr>\n",
       "      <th>2</th>\n",
       "      <td>Miss</td>\n",
       "      <td>0.702703</td>\n",
       "    </tr>\n",
       "    <tr>\n",
       "      <th>3</th>\n",
       "      <td>Mr</td>\n",
       "      <td>0.157795</td>\n",
       "    </tr>\n",
       "    <tr>\n",
       "      <th>4</th>\n",
       "      <td>Mrs</td>\n",
       "      <td>0.793651</td>\n",
       "    </tr>\n",
       "  </tbody>\n",
       "</table>\n",
       "</div>"
      ],
      "text/plain": [
       "    Title  Survived\n",
       "0  Master  0.575000\n",
       "1    Misc  0.428571\n",
       "2    Miss  0.702703\n",
       "3      Mr  0.157795\n",
       "4     Mrs  0.793651"
      ]
     },
     "execution_count": 19,
     "metadata": {},
     "output_type": "execute_result"
    }
   ],
   "source": [
    "for dataset in combined:\n",
    "    dataset['Title'] = dataset['Title'].replace([\"Lady\", \"Countess\", \"Capt\", \"Col\", \"Don\", \"Dr\", \"Jonkheer\"], \"Misc\")     \n",
    "    dataset['Title'] = dataset['Title'].replace([\"Mlle\", \"Ms\"], \"Miss\")\n",
    "    dataset['Title'] = dataset['Title'].replace(\"Mme\", \"Mrs\")\n",
    "    dataset['Title'] = dataset['Title'].replace([\"Major\", \"Rev\", \"Sir\"], \"Mr\")\n",
    "    # dataset['Title'] = dataset['Title'].replace('Mlle', 'Miss')\n",
    "                               \n",
    "training[['Title', 'Survived']].groupby(['Title'], as_index=False).mean()\n"
   ]
  },
  {
   "cell_type": "code",
   "execution_count": 20,
   "id": "mental-puppy",
   "metadata": {},
   "outputs": [
    {
     "data": {
      "text/plain": [
       "Text(0.5, 1.0, 'Passenger Title vs Count')"
      ]
     },
     "execution_count": 20,
     "metadata": {},
     "output_type": "execute_result"
    },
    {
     "data": {
      "image/png": "[encoded data removed]",
      "text/plain": [
       "<Figure size 576x288 with 1 Axes>"
      ]
     },
     "metadata": {
      "needs_background": "light"
     },
     "output_type": "display_data"
    }
   ],
   "source": [
    "plt.subplots(figsize=(8,4))\n",
    "sns.countplot(training['Title'], hue=training['Survived'])\n",
    "plt.title(\"Passenger Title vs Count\", fontsize=20)"
   ]
  },
  {
   "cell_type": "markdown",
   "id": "ongoing-token",
   "metadata": {},
   "source": [
    "Most males with \"Mr\" title did not survive, but most with Master did. Most female, Mrs and Miss, titles did survive. \n",
    "\n",
    "\n",
    "#### Convert the categorical 'Title' to ordinal for our analysis. "
   ]
  },
  {
   "cell_type": "code",
   "execution_count": 21,
   "id": "possible-fashion",
   "metadata": {},
   "outputs": [],
   "source": [
    "title_ordinal = {\"Mr\": 1, \"Miss\": 2, \"Mrs\": 3, \"Master\": 4, \"Misc\": 5}\n",
    "for dataset in combined:\n",
    "    dataset['Title'] = dataset['Title'].map(title_ordinal)\n",
    "    dataset['Title'] = dataset['Title'].fillna(0)  # Check One hot encoding\n",
    "    dataset['Title'] = dataset['Title'].astype(int)"
   ]
  },
  {
   "cell_type": "markdown",
   "id": "compliant-hampton",
   "metadata": {},
   "source": [
    "#### Now let's drop 'Name' and 'PassengerID' features from training dataset and 'Name' from testing dataset."
   ]
  },
  {
   "cell_type": "code",
   "execution_count": 22,
   "id": "still-discretion",
   "metadata": {},
   "outputs": [
    {
     "data": {
      "text/plain": [
       "((891, 9), (418, 9))"
      ]
     },
     "execution_count": 22,
     "metadata": {},
     "output_type": "execute_result"
    }
   ],
   "source": [
    "training = training.drop(['Name', 'PassengerId'], axis=1)\n",
    "testing = testing.drop(['Name'], axis=1)\n",
    "combined = [training, testing]\n",
    "training.shape, testing.shape"
   ]
  },
  {
   "cell_type": "markdown",
   "id": "rubber-dining",
   "metadata": {},
   "source": [
    "#### Create Age Bands (Split into 5)"
   ]
  },
  {
   "cell_type": "code",
   "execution_count": 23,
   "id": "thick-blowing",
   "metadata": {},
   "outputs": [
    {
     "data": {
      "text/html": [
       "<div>\n",
       "<style scoped>\n",
       "    .dataframe tbody tr th:only-of-type {\n",
       "        vertical-align: middle;\n",
       "    }\n",
       "\n",
       "    .dataframe tbody tr th {\n",
       "        vertical-align: top;\n",
       "    }\n",
       "\n",
       "    .dataframe thead th {\n",
       "        text-align: right;\n",
       "    }\n",
       "</style>\n",
       "<table border=\"1\" class=\"dataframe\">\n",
       "  <thead>\n",
       "    <tr style=\"text-align: right;\">\n",
       "      <th></th>\n",
       "      <th>AgeBand</th>\n",
       "      <th>Survived</th>\n",
       "    </tr>\n",
       "  </thead>\n",
       "  <tbody>\n",
       "    <tr>\n",
       "      <th>0</th>\n",
       "      <td>(-0.08, 16.0]</td>\n",
       "      <td>0.550000</td>\n",
       "    </tr>\n",
       "    <tr>\n",
       "      <th>1</th>\n",
       "      <td>(16.0, 32.0]</td>\n",
       "      <td>0.344762</td>\n",
       "    </tr>\n",
       "    <tr>\n",
       "      <th>2</th>\n",
       "      <td>(32.0, 48.0]</td>\n",
       "      <td>0.403226</td>\n",
       "    </tr>\n",
       "    <tr>\n",
       "      <th>3</th>\n",
       "      <td>(48.0, 64.0]</td>\n",
       "      <td>0.434783</td>\n",
       "    </tr>\n",
       "    <tr>\n",
       "      <th>4</th>\n",
       "      <td>(64.0, 80.0]</td>\n",
       "      <td>0.090909</td>\n",
       "    </tr>\n",
       "  </tbody>\n",
       "</table>\n",
       "</div>"
      ],
      "text/plain": [
       "         AgeBand  Survived\n",
       "0  (-0.08, 16.0]  0.550000\n",
       "1   (16.0, 32.0]  0.344762\n",
       "2   (32.0, 48.0]  0.403226\n",
       "3   (48.0, 64.0]  0.434783\n",
       "4   (64.0, 80.0]  0.090909"
      ]
     },
     "execution_count": 23,
     "metadata": {},
     "output_type": "execute_result"
    }
   ],
   "source": [
    "for dataset in combined:\n",
    "    dataset['Age'] = dataset['Age'].astype(int)\n",
    "\n",
    "training[\"AgeBand\"] = pd.cut(training[\"Age\"], 5)\n",
    "training[[\"AgeBand\", \"Survived\"]].groupby([\"AgeBand\"], as_index=False).mean().sort_values(by=\"AgeBand\", ascending=True)\n"
   ]
  },
  {
   "cell_type": "code",
   "execution_count": 24,
   "id": "lasting-nicaragua",
   "metadata": {
    "scrolled": true
   },
   "outputs": [],
   "source": [
    "# AgeBand Beginning Value above changes after swap to integer\n",
    "\n",
    "for dataset in combined:    \n",
    "    dataset.loc[ dataset['Age'] <= 16, 'Age'] = 0\n",
    "    dataset.loc[ dataset['Age'] > 64, 'Age'] = 4\n",
    "    dataset.loc[(dataset['Age'] > 16) & (dataset['Age'] <= 32), 'Age'] = 1\n",
    "    dataset.loc[(dataset['Age'] > 32) & (dataset['Age'] <= 48), 'Age'] = 2\n",
    "    dataset.loc[(dataset['Age'] > 48) & (dataset['Age'] <= 64), 'Age'] = 3"
   ]
  },
  {
   "cell_type": "code",
   "execution_count": 25,
   "id": "hollow-relief",
   "metadata": {},
   "outputs": [
    {
     "data": {
      "text/plain": [
       "<AxesSubplot:xlabel='SibSp', ylabel='count'>"
      ]
     },
     "execution_count": 25,
     "metadata": {},
     "output_type": "execute_result"
    },
    {
     "data": {
      "image/png": "[encoded data removed]",
      "text/plain": [
       "<Figure size 432x288 with 1 Axes>"
      ]
     },
     "metadata": {
      "needs_background": "light"
     },
     "output_type": "display_data"
    }
   ],
   "source": [
    "sns.countplot(training['SibSp'],hue=training['Survived'])"
   ]
  },
  {
   "cell_type": "markdown",
   "id": "hawaiian-monitoring",
   "metadata": {},
   "source": [
    " - We see most without Sibling or Spouse (i.e. Alone) perish. "
   ]
  },
  {
   "cell_type": "code",
   "execution_count": 26,
   "id": "radio-corpus",
   "metadata": {},
   "outputs": [
    {
     "data": {
      "text/plain": [
       "<seaborn.axisgrid.FacetGrid at 0x7fb7f8d70670>"
      ]
     },
     "execution_count": 26,
     "metadata": {},
     "output_type": "execute_result"
    },
    {
     "data": {
      "image/png": "[encoded data removed]",
      "text/plain": [
       "<Figure size 347.815x475.2 with 3 Axes>"
      ]
     },
     "metadata": {
      "needs_background": "light"
     },
     "output_type": "display_data"
    }
   ],
   "source": [
    "grid = sns.FacetGrid(training, row='Pclass', size=2.2, aspect=1.6)\n",
    "grid.map(sns.pointplot, 'Age', 'Survived', 'Sex', palette='deep')\n",
    "grid.add_legend(title='Male=0 / Female=1')"
   ]
  },
  {
   "cell_type": "markdown",
   "id": "aerial-volleyball",
   "metadata": {},
   "source": [
    "Women survival higher across all passenger classes and most ages. Men survival higher for First Class compared to Class 2 and Class 3. "
   ]
  },
  {
   "cell_type": "code",
   "execution_count": 27,
   "id": "backed-hopkins",
   "metadata": {},
   "outputs": [
    {
     "data": {
      "text/html": [
       "<div>\n",
       "<style scoped>\n",
       "    .dataframe tbody tr th:only-of-type {\n",
       "        vertical-align: middle;\n",
       "    }\n",
       "\n",
       "    .dataframe tbody tr th {\n",
       "        vertical-align: top;\n",
       "    }\n",
       "\n",
       "    .dataframe thead th {\n",
       "        text-align: right;\n",
       "    }\n",
       "</style>\n",
       "<table border=\"1\" class=\"dataframe\">\n",
       "  <thead>\n",
       "    <tr style=\"text-align: right;\">\n",
       "      <th></th>\n",
       "      <th>Survived</th>\n",
       "      <th>Pclass</th>\n",
       "      <th>Sex</th>\n",
       "      <th>Age</th>\n",
       "      <th>SibSp</th>\n",
       "      <th>Parch</th>\n",
       "      <th>Fare</th>\n",
       "      <th>Embarked</th>\n",
       "      <th>Title</th>\n",
       "    </tr>\n",
       "  </thead>\n",
       "  <tbody>\n",
       "    <tr>\n",
       "      <th>0</th>\n",
       "      <td>0</td>\n",
       "      <td>3</td>\n",
       "      <td>0</td>\n",
       "      <td>1</td>\n",
       "      <td>1</td>\n",
       "      <td>0</td>\n",
       "      <td>7.2500</td>\n",
       "      <td>0</td>\n",
       "      <td>1</td>\n",
       "    </tr>\n",
       "    <tr>\n",
       "      <th>1</th>\n",
       "      <td>1</td>\n",
       "      <td>1</td>\n",
       "      <td>1</td>\n",
       "      <td>2</td>\n",
       "      <td>1</td>\n",
       "      <td>0</td>\n",
       "      <td>71.2833</td>\n",
       "      <td>1</td>\n",
       "      <td>3</td>\n",
       "    </tr>\n",
       "    <tr>\n",
       "      <th>2</th>\n",
       "      <td>1</td>\n",
       "      <td>3</td>\n",
       "      <td>1</td>\n",
       "      <td>1</td>\n",
       "      <td>0</td>\n",
       "      <td>0</td>\n",
       "      <td>7.9250</td>\n",
       "      <td>0</td>\n",
       "      <td>2</td>\n",
       "    </tr>\n",
       "    <tr>\n",
       "      <th>3</th>\n",
       "      <td>1</td>\n",
       "      <td>1</td>\n",
       "      <td>1</td>\n",
       "      <td>2</td>\n",
       "      <td>1</td>\n",
       "      <td>0</td>\n",
       "      <td>53.1000</td>\n",
       "      <td>0</td>\n",
       "      <td>3</td>\n",
       "    </tr>\n",
       "    <tr>\n",
       "      <th>4</th>\n",
       "      <td>0</td>\n",
       "      <td>3</td>\n",
       "      <td>0</td>\n",
       "      <td>2</td>\n",
       "      <td>0</td>\n",
       "      <td>0</td>\n",
       "      <td>8.0500</td>\n",
       "      <td>0</td>\n",
       "      <td>1</td>\n",
       "    </tr>\n",
       "  </tbody>\n",
       "</table>\n",
       "</div>"
      ],
      "text/plain": [
       "   Survived  Pclass  Sex  Age  SibSp  Parch     Fare  Embarked  Title\n",
       "0         0       3    0    1      1      0   7.2500         0      1\n",
       "1         1       1    1    2      1      0  71.2833         1      3\n",
       "2         1       3    1    1      0      0   7.9250         0      2\n",
       "3         1       1    1    2      1      0  53.1000         0      3\n",
       "4         0       3    0    2      0      0   8.0500         0      1"
      ]
     },
     "execution_count": 27,
     "metadata": {},
     "output_type": "execute_result"
    }
   ],
   "source": [
    "training = training.drop(['AgeBand'], axis=1)\n",
    "combined = [training, testing]\n",
    "training.head()"
   ]
  },
  {
   "cell_type": "markdown",
   "id": "f9398f6e",
   "metadata": {},
   "source": [
    "<h1>Create New Features</h1><a id='head-2-1'></a>"
   ]
  },
  {
   "cell_type": "markdown",
   "id": "increased-malawi",
   "metadata": {},
   "source": [
    " - Let's create new FamilySize feature by combining Parch and SibSP from our datasets and then drop Parch and SibSp. "
   ]
  },
  {
   "cell_type": "code",
   "execution_count": 28,
   "id": "seeing-karma",
   "metadata": {},
   "outputs": [
    {
     "data": {
      "text/html": [
       "<div>\n",
       "<style scoped>\n",
       "    .dataframe tbody tr th:only-of-type {\n",
       "        vertical-align: middle;\n",
       "    }\n",
       "\n",
       "    .dataframe tbody tr th {\n",
       "        vertical-align: top;\n",
       "    }\n",
       "\n",
       "    .dataframe thead th {\n",
       "        text-align: right;\n",
       "    }\n",
       "</style>\n",
       "<table border=\"1\" class=\"dataframe\">\n",
       "  <thead>\n",
       "    <tr style=\"text-align: right;\">\n",
       "      <th></th>\n",
       "      <th>FamilySize</th>\n",
       "      <th>Survived</th>\n",
       "    </tr>\n",
       "  </thead>\n",
       "  <tbody>\n",
       "    <tr>\n",
       "      <th>3</th>\n",
       "      <td>4</td>\n",
       "      <td>0.724138</td>\n",
       "    </tr>\n",
       "    <tr>\n",
       "      <th>2</th>\n",
       "      <td>3</td>\n",
       "      <td>0.578431</td>\n",
       "    </tr>\n",
       "    <tr>\n",
       "      <th>1</th>\n",
       "      <td>2</td>\n",
       "      <td>0.552795</td>\n",
       "    </tr>\n",
       "    <tr>\n",
       "      <th>6</th>\n",
       "      <td>7</td>\n",
       "      <td>0.333333</td>\n",
       "    </tr>\n",
       "    <tr>\n",
       "      <th>0</th>\n",
       "      <td>1</td>\n",
       "      <td>0.303538</td>\n",
       "    </tr>\n",
       "    <tr>\n",
       "      <th>4</th>\n",
       "      <td>5</td>\n",
       "      <td>0.200000</td>\n",
       "    </tr>\n",
       "    <tr>\n",
       "      <th>5</th>\n",
       "      <td>6</td>\n",
       "      <td>0.136364</td>\n",
       "    </tr>\n",
       "    <tr>\n",
       "      <th>7</th>\n",
       "      <td>8</td>\n",
       "      <td>0.000000</td>\n",
       "    </tr>\n",
       "    <tr>\n",
       "      <th>8</th>\n",
       "      <td>11</td>\n",
       "      <td>0.000000</td>\n",
       "    </tr>\n",
       "  </tbody>\n",
       "</table>\n",
       "</div>"
      ],
      "text/plain": [
       "   FamilySize  Survived\n",
       "3           4  0.724138\n",
       "2           3  0.578431\n",
       "1           2  0.552795\n",
       "6           7  0.333333\n",
       "0           1  0.303538\n",
       "4           5  0.200000\n",
       "5           6  0.136364\n",
       "7           8  0.000000\n",
       "8          11  0.000000"
      ]
     },
     "execution_count": 28,
     "metadata": {},
     "output_type": "execute_result"
    }
   ],
   "source": [
    "for dataset in combined:\n",
    "    dataset['FamilySize'] = dataset['Parch'] + dataset['SibSp'] + 1\n",
    "    \n",
    "training[['FamilySize', 'Survived']].groupby(['FamilySize'], as_index=False).mean().sort_values(by='Survived', ascending=False)"
   ]
  },
  {
   "cell_type": "markdown",
   "id": "productive-bradley",
   "metadata": {},
   "source": [
    "Let's compare someone alone to not alone\n"
   ]
  },
  {
   "cell_type": "code",
   "execution_count": 29,
   "id": "useful-comfort",
   "metadata": {},
   "outputs": [
    {
     "data": {
      "text/html": [
       "<div>\n",
       "<style scoped>\n",
       "    .dataframe tbody tr th:only-of-type {\n",
       "        vertical-align: middle;\n",
       "    }\n",
       "\n",
       "    .dataframe tbody tr th {\n",
       "        vertical-align: top;\n",
       "    }\n",
       "\n",
       "    .dataframe thead th {\n",
       "        text-align: right;\n",
       "    }\n",
       "</style>\n",
       "<table border=\"1\" class=\"dataframe\">\n",
       "  <thead>\n",
       "    <tr style=\"text-align: right;\">\n",
       "      <th></th>\n",
       "      <th>IsAlone</th>\n",
       "      <th>Survived</th>\n",
       "    </tr>\n",
       "  </thead>\n",
       "  <tbody>\n",
       "    <tr>\n",
       "      <th>0</th>\n",
       "      <td>0</td>\n",
       "      <td>0.505650</td>\n",
       "    </tr>\n",
       "    <tr>\n",
       "      <th>1</th>\n",
       "      <td>1</td>\n",
       "      <td>0.303538</td>\n",
       "    </tr>\n",
       "  </tbody>\n",
       "</table>\n",
       "</div>"
      ],
      "text/plain": [
       "   IsAlone  Survived\n",
       "0        0  0.505650\n",
       "1        1  0.303538"
      ]
     },
     "execution_count": 29,
     "metadata": {},
     "output_type": "execute_result"
    }
   ],
   "source": [
    "for dataset in combined:\n",
    "    dataset['IsAlone'] = 0\n",
    "    dataset.loc[dataset['FamilySize'] == 1, 'IsAlone'] = 1\n",
    "    \n",
    "training[['IsAlone', 'Survived']].groupby(['IsAlone'], as_index = False).mean()"
   ]
  },
  {
   "cell_type": "markdown",
   "id": "expired-blood",
   "metadata": {},
   "source": [
    "Let's use IsAlone and drop Parch, SibSp, and FamilySize."
   ]
  },
  {
   "cell_type": "code",
   "execution_count": 30,
   "id": "occupied-station",
   "metadata": {},
   "outputs": [
    {
     "data": {
      "text/html": [
       "<div>\n",
       "<style scoped>\n",
       "    .dataframe tbody tr th:only-of-type {\n",
       "        vertical-align: middle;\n",
       "    }\n",
       "\n",
       "    .dataframe tbody tr th {\n",
       "        vertical-align: top;\n",
       "    }\n",
       "\n",
       "    .dataframe thead th {\n",
       "        text-align: right;\n",
       "    }\n",
       "</style>\n",
       "<table border=\"1\" class=\"dataframe\">\n",
       "  <thead>\n",
       "    <tr style=\"text-align: right;\">\n",
       "      <th></th>\n",
       "      <th>Survived</th>\n",
       "      <th>Pclass</th>\n",
       "      <th>Sex</th>\n",
       "      <th>Age</th>\n",
       "      <th>Fare</th>\n",
       "      <th>Embarked</th>\n",
       "      <th>Title</th>\n",
       "      <th>IsAlone</th>\n",
       "    </tr>\n",
       "  </thead>\n",
       "  <tbody>\n",
       "    <tr>\n",
       "      <th>0</th>\n",
       "      <td>0</td>\n",
       "      <td>3</td>\n",
       "      <td>0</td>\n",
       "      <td>1</td>\n",
       "      <td>7.2500</td>\n",
       "      <td>0</td>\n",
       "      <td>1</td>\n",
       "      <td>0</td>\n",
       "    </tr>\n",
       "    <tr>\n",
       "      <th>1</th>\n",
       "      <td>1</td>\n",
       "      <td>1</td>\n",
       "      <td>1</td>\n",
       "      <td>2</td>\n",
       "      <td>71.2833</td>\n",
       "      <td>1</td>\n",
       "      <td>3</td>\n",
       "      <td>0</td>\n",
       "    </tr>\n",
       "    <tr>\n",
       "      <th>2</th>\n",
       "      <td>1</td>\n",
       "      <td>3</td>\n",
       "      <td>1</td>\n",
       "      <td>1</td>\n",
       "      <td>7.9250</td>\n",
       "      <td>0</td>\n",
       "      <td>2</td>\n",
       "      <td>1</td>\n",
       "    </tr>\n",
       "    <tr>\n",
       "      <th>3</th>\n",
       "      <td>1</td>\n",
       "      <td>1</td>\n",
       "      <td>1</td>\n",
       "      <td>2</td>\n",
       "      <td>53.1000</td>\n",
       "      <td>0</td>\n",
       "      <td>3</td>\n",
       "      <td>0</td>\n",
       "    </tr>\n",
       "    <tr>\n",
       "      <th>4</th>\n",
       "      <td>0</td>\n",
       "      <td>3</td>\n",
       "      <td>0</td>\n",
       "      <td>2</td>\n",
       "      <td>8.0500</td>\n",
       "      <td>0</td>\n",
       "      <td>1</td>\n",
       "      <td>1</td>\n",
       "    </tr>\n",
       "  </tbody>\n",
       "</table>\n",
       "</div>"
      ],
      "text/plain": [
       "   Survived  Pclass  Sex  Age     Fare  Embarked  Title  IsAlone\n",
       "0         0       3    0    1   7.2500         0      1        0\n",
       "1         1       1    1    2  71.2833         1      3        0\n",
       "2         1       3    1    1   7.9250         0      2        1\n",
       "3         1       1    1    2  53.1000         0      3        0\n",
       "4         0       3    0    2   8.0500         0      1        1"
      ]
     },
     "execution_count": 30,
     "metadata": {},
     "output_type": "execute_result"
    }
   ],
   "source": [
    "training = training.drop(['Parch', 'SibSp', 'FamilySize'], axis=1)\n",
    "testing = testing.drop(['Parch', 'SibSp', 'FamilySize'], axis=1)\n",
    "combined = [training, testing]\n",
    "\n",
    "training.head()"
   ]
  },
  {
   "cell_type": "markdown",
   "id": "premier-damage",
   "metadata": {},
   "source": [
    "Let's create FareBand similar to AgeBand methodology and categorize per band."
   ]
  },
  {
   "cell_type": "code",
   "execution_count": 31,
   "id": "czech-degree",
   "metadata": {},
   "outputs": [
    {
     "data": {
      "text/html": [
       "<div>\n",
       "<style scoped>\n",
       "    .dataframe tbody tr th:only-of-type {\n",
       "        vertical-align: middle;\n",
       "    }\n",
       "\n",
       "    .dataframe tbody tr th {\n",
       "        vertical-align: top;\n",
       "    }\n",
       "\n",
       "    .dataframe thead th {\n",
       "        text-align: right;\n",
       "    }\n",
       "</style>\n",
       "<table border=\"1\" class=\"dataframe\">\n",
       "  <thead>\n",
       "    <tr style=\"text-align: right;\">\n",
       "      <th></th>\n",
       "      <th>FareBand</th>\n",
       "      <th>Survived</th>\n",
       "    </tr>\n",
       "  </thead>\n",
       "  <tbody>\n",
       "    <tr>\n",
       "      <th>0</th>\n",
       "      <td>(-0.001, 7.91]</td>\n",
       "      <td>0.197309</td>\n",
       "    </tr>\n",
       "    <tr>\n",
       "      <th>1</th>\n",
       "      <td>(7.91, 14.454]</td>\n",
       "      <td>0.303571</td>\n",
       "    </tr>\n",
       "    <tr>\n",
       "      <th>2</th>\n",
       "      <td>(14.454, 31.0]</td>\n",
       "      <td>0.454955</td>\n",
       "    </tr>\n",
       "    <tr>\n",
       "      <th>3</th>\n",
       "      <td>(31.0, 512.329]</td>\n",
       "      <td>0.581081</td>\n",
       "    </tr>\n",
       "  </tbody>\n",
       "</table>\n",
       "</div>"
      ],
      "text/plain": [
       "          FareBand  Survived\n",
       "0   (-0.001, 7.91]  0.197309\n",
       "1   (7.91, 14.454]  0.303571\n",
       "2   (14.454, 31.0]  0.454955\n",
       "3  (31.0, 512.329]  0.581081"
      ]
     },
     "execution_count": 31,
     "metadata": {},
     "output_type": "execute_result"
    }
   ],
   "source": [
    "training['FareBand'] = pd.qcut(training['Fare'], 4) # Qcut bins (\"FareBand\") approx equal populated\n",
    "training[['FareBand','Survived']].groupby(['FareBand'], as_index=False).mean().sort_values(by='FareBand', ascending=True)"
   ]
  },
  {
   "cell_type": "code",
   "execution_count": 32,
   "id": "experimental-shower",
   "metadata": {},
   "outputs": [],
   "source": [
    "for dataset in combined:\n",
    "    dataset.loc[ dataset['Fare'] <= 7.91, 'Fare'] = 0\n",
    "    dataset.loc[(dataset['Fare'] > 7.91) & (dataset['Fare'] <= 14.454), 'Fare'] = 1\n",
    "    dataset.loc[(dataset['Fare'] > 14.454) & (dataset['Fare'] <= 31), 'Fare']   = 2\n",
    "    dataset.loc[ dataset['Fare'] > 31, 'Fare'] = 3\n",
    "    dataset['Fare'] = dataset['Fare'].astype(int)\n",
    "\n",
    "training = training.drop(['FareBand'], axis=1)\n",
    "combined = [training, testing]"
   ]
  },
  {
   "cell_type": "markdown",
   "id": "august-upgrade",
   "metadata": {},
   "source": [
    "### Let's create new Age*PClass Feature"
   ]
  },
  {
   "cell_type": "code",
   "execution_count": 33,
   "id": "tribal-muslim",
   "metadata": {},
   "outputs": [
    {
     "data": {
      "text/html": [
       "<div>\n",
       "<style scoped>\n",
       "    .dataframe tbody tr th:only-of-type {\n",
       "        vertical-align: middle;\n",
       "    }\n",
       "\n",
       "    .dataframe tbody tr th {\n",
       "        vertical-align: top;\n",
       "    }\n",
       "\n",
       "    .dataframe thead th {\n",
       "        text-align: right;\n",
       "    }\n",
       "</style>\n",
       "<table border=\"1\" class=\"dataframe\">\n",
       "  <thead>\n",
       "    <tr style=\"text-align: right;\">\n",
       "      <th></th>\n",
       "      <th>Survived</th>\n",
       "      <th>Pclass</th>\n",
       "      <th>Sex</th>\n",
       "      <th>Age</th>\n",
       "      <th>Fare</th>\n",
       "      <th>Embarked</th>\n",
       "      <th>Title</th>\n",
       "      <th>IsAlone</th>\n",
       "      <th>Age*PClass</th>\n",
       "    </tr>\n",
       "  </thead>\n",
       "  <tbody>\n",
       "    <tr>\n",
       "      <th>0</th>\n",
       "      <td>0</td>\n",
       "      <td>3</td>\n",
       "      <td>0</td>\n",
       "      <td>1</td>\n",
       "      <td>0</td>\n",
       "      <td>0</td>\n",
       "      <td>1</td>\n",
       "      <td>0</td>\n",
       "      <td>3</td>\n",
       "    </tr>\n",
       "    <tr>\n",
       "      <th>1</th>\n",
       "      <td>1</td>\n",
       "      <td>1</td>\n",
       "      <td>1</td>\n",
       "      <td>2</td>\n",
       "      <td>3</td>\n",
       "      <td>1</td>\n",
       "      <td>3</td>\n",
       "      <td>0</td>\n",
       "      <td>2</td>\n",
       "    </tr>\n",
       "    <tr>\n",
       "      <th>2</th>\n",
       "      <td>1</td>\n",
       "      <td>3</td>\n",
       "      <td>1</td>\n",
       "      <td>1</td>\n",
       "      <td>1</td>\n",
       "      <td>0</td>\n",
       "      <td>2</td>\n",
       "      <td>1</td>\n",
       "      <td>3</td>\n",
       "    </tr>\n",
       "    <tr>\n",
       "      <th>3</th>\n",
       "      <td>1</td>\n",
       "      <td>1</td>\n",
       "      <td>1</td>\n",
       "      <td>2</td>\n",
       "      <td>3</td>\n",
       "      <td>0</td>\n",
       "      <td>3</td>\n",
       "      <td>0</td>\n",
       "      <td>2</td>\n",
       "    </tr>\n",
       "    <tr>\n",
       "      <th>4</th>\n",
       "      <td>0</td>\n",
       "      <td>3</td>\n",
       "      <td>0</td>\n",
       "      <td>2</td>\n",
       "      <td>1</td>\n",
       "      <td>0</td>\n",
       "      <td>1</td>\n",
       "      <td>1</td>\n",
       "      <td>6</td>\n",
       "    </tr>\n",
       "  </tbody>\n",
       "</table>\n",
       "</div>"
      ],
      "text/plain": [
       "   Survived  Pclass  Sex  Age  Fare  Embarked  Title  IsAlone  Age*PClass\n",
       "0         0       3    0    1     0         0      1        0           3\n",
       "1         1       1    1    2     3         1      3        0           2\n",
       "2         1       3    1    1     1         0      2        1           3\n",
       "3         1       1    1    2     3         0      3        0           2\n",
       "4         0       3    0    2     1         0      1        1           6"
      ]
     },
     "execution_count": 33,
     "metadata": {},
     "output_type": "execute_result"
    }
   ],
   "source": [
    "for dataset in combined:\n",
    "    dataset['Age*PClass'] = dataset.Age * dataset.Pclass\n",
    "    \n",
    "training.head()"
   ]
  },
  {
   "cell_type": "markdown",
   "id": "c3e1946a",
   "metadata": {},
   "source": [
    "<h1>Correlation Matrix</h1><a id='head-2-2'></a>"
   ]
  },
  {
   "cell_type": "markdown",
   "id": "2ef2383e",
   "metadata": {},
   "source": [
    "### Correlations of the training dataset. \n",
    "  \n",
    "Bivariate analysis - tries to find the relationship between two variables. We look for correlation or association between our predictor and target variables. Bivariate analysis is performed for any combination of categorical and numerical variables. Pearson's default used assuming Gaussian for numeric & numeric."
   ]
  },
  {
   "cell_type": "code",
   "execution_count": 34,
   "id": "959868aa",
   "metadata": {},
   "outputs": [
    {
     "data": {
      "text/plain": [
       "Text(0.5, 1.0, 'Correlation Matrix Post Feature Engineering')"
      ]
     },
     "execution_count": 34,
     "metadata": {},
     "output_type": "execute_result"
    },
    {
     "data": {
      "image/png": "[encoded data removed]",
      "text/plain": [
       "<Figure size 792x648 with 2 Axes>"
      ]
     },
     "metadata": {},
     "output_type": "display_data"
    }
   ],
   "source": [
    "sns.set_theme(style=\"white\")\n",
    "# Compute the correlation matrix\n",
    "corr = training.corr()\n",
    "mask = np.triu(np.ones_like(corr, dtype=bool))\n",
    "f, ax = plt.subplots(figsize=(11, 9))\n",
    "cmap = sns.diverging_palette(230, 20, as_cmap=True)\n",
    "sns.heatmap(corr, mask=mask, cmap=cmap, vmax=.3, center=0,\n",
    "            square=True, linewidths=.5, annot=True, cbar_kws={\"shrink\": .5})\n",
    "plt.title(\"Correlation Matrix Post Feature Engineering\", fontsize=20)"
   ]
  },
  {
   "cell_type": "markdown",
   "id": "northern-witness",
   "metadata": {},
   "source": [
    "  - We see the \"Sex\" and the three added features \"IsAlone\", \"Title\", and \"PClass*Age\" have relatively strong correlations"
   ]
  },
  {
   "cell_type": "markdown",
   "id": "tight-princess",
   "metadata": {},
   "source": [
    "## Variable Importance Plots for Pre and Post Feature Engineering for Comparison"
   ]
  },
  {
   "cell_type": "code",
   "execution_count": 35,
   "id": "generous-document",
   "metadata": {},
   "outputs": [
    {
     "data": {
      "text/plain": [
       "Text(0.5, 1.0, 'Feature Importance (Checkpoint 1)')"
      ]
     },
     "execution_count": 35,
     "metadata": {},
     "output_type": "execute_result"
    },
    {
     "data": {
      "image/png": "[encoded data removed]",
      "text/plain": [
       "<Figure size 864x432 with 2 Axes>"
      ]
     },
     "metadata": {},
     "output_type": "display_data"
    }
   ],
   "source": [
    "X_train = training.drop(\"Survived\", axis=1)\n",
    "Y_train = training[\"Survived\"]\n",
    "\n",
    "X = X_train\n",
    "y = Y_train\n",
    "\n",
    "# define the model\n",
    "model = RandomForestClassifier()\n",
    "model.fit(X, y)\n",
    "importance = model.feature_importances_\n",
    "feat_importances = pd.Series(model.feature_importances_, index=X.columns)\n",
    "fig, axs = plt.subplots(figsize=[12, 6], ncols=2)\n",
    "fig.suptitle('Feature Importance Comparison', fontsize=20)\n",
    "feat_importances.nlargest(10).plot(kind='bar', rot=30, ax=axs[0], title='Feature Importance') # 8 Variables at this point, descending\n",
    "\n",
    "# Datasets From Prior Feature Importance Checkpoint\n",
    "Xa = X_train_A\n",
    "ya = Y_train_A\n",
    "\n",
    "modela = RandomForestClassifier()\n",
    "modela.fit(Xa, ya)\n",
    "importance = modela.feature_importances_\n",
    "feat_importances = pd.Series(modela.feature_importances_, index=Xa.columns)\n",
    "feat_importances.nlargest(10).plot(kind='bar', ax=axs[1]) # 8 Variables at this point, descending\n",
    "plt.xticks(rotation=0, horizontalalignment=\"center\")\n",
    "plt.title(\"Feature Importance (Checkpoint 1)\", fontsize=12)"
   ]
  },
  {
   "cell_type": "markdown",
   "id": "asian-ridge",
   "metadata": {},
   "source": [
    " - Feature Importance (Checkpoint 1) was prior to creating the Title, Age*PClass, and IsAlone features and scaling other categorical to numeric. We went from 'Fare', 'Sex', 'Age' features intitally dominating with equal importance to the newly created 'Title' feature then 'Sex', and 'PClass' with decreasing importance. The newly created fields seem important to outcome."
   ]
  },
  {
   "cell_type": "markdown",
   "id": "0411774b",
   "metadata": {},
   "source": [
    "<h1>Phase II - Machine Learning Modeling; Predictions and Comparisons</h1>\n",
    "<a id=\"Phase II\"></a>"
   ]
  },
  {
   "cell_type": "markdown",
   "id": "national-range",
   "metadata": {},
   "source": [
    "## Model Selection and Evaluation¶\n",
    "\n",
    "Now we are ready to train models and predict survivability of the test set. There are many predictive modeling algorithms available. Our problem is a supervised binary classification problem. We want to predict a binary output between Survived or Not-Survived using dataset features. Supervised Learning and Binary Classification narrow down model selection. Several are selected below. There are others available.\n",
    "\n",
    "These include:  \n",
    " - Logistic Regression  \n",
    " - KNN or k-Nearest Neighbors    \n",
    " - Random Forest  \n",
    " - Gradient Boosting Machine (GBM)  \n",
    " - Extreme Gradient Boosting (XGBoosting)\n",
    "\n",
    "For intial model comparisons, we'll review confusion matrix and results score using (X_train, y_train) for the training accuracy and (X_val, y_val) for the validation accuracy score leveraging the created validation set.\n",
    "\n",
    "Cross Validation mean accuracy will be the used as the final model selection criteria."
   ]
  },
  {
   "cell_type": "code",
   "execution_count": 36,
   "id": "experienced-therapist",
   "metadata": {},
   "outputs": [
    {
     "data": {
      "text/plain": [
       "((891, 8), (891,), (418, 8))"
      ]
     },
     "execution_count": 36,
     "metadata": {},
     "output_type": "execute_result"
    }
   ],
   "source": [
    "X_train = training.drop(\"Survived\", axis=1)\n",
    "y_train = training[\"Survived\"]\n",
    "X_test = testing.drop(\"PassengerId\", axis=1).copy()\n",
    "\n",
    "X_train.shape, y_train.shape, X_test.shape"
   ]
  },
  {
   "cell_type": "code",
   "execution_count": 37,
   "id": "novel-question",
   "metadata": {},
   "outputs": [],
   "source": [
    "X = X_train\n",
    "y = y_train\n",
    "\n",
    "# This creates a validation test dataset from the training data.\n",
    "X_train, X_val, y_train, y_val = train_test_split(X_train, y_train, test_size=0.20, random_state=0)"
   ]
  },
  {
   "cell_type": "markdown",
   "id": "italian-soundtrack",
   "metadata": {},
   "source": [
    "### Logistic Regression\n",
    "Logistic Regression is a useful model to run early in the workflow. Logistic regression measures the relationship between the categorical dependent variable (feature) and one or more independent variables (features) by estimating probabilities using a logistic function, which is the cumulative logistic distribution. Reference Wikipedia.\n",
    "\n",
    "Note the confidence score generated by the model based on our training dataset."
   ]
  },
  {
   "cell_type": "code",
   "execution_count": 38,
   "id": "moral-rider",
   "metadata": {},
   "outputs": [],
   "source": [
    "logreg = LogisticRegression()\n",
    "logreg.fit(X_train, y_train)\n",
    "Y_pred = logreg.predict(X_val)\n",
    "acc_log = round(logreg.score(X_train, y_train) * 100, 2)\n",
    "acc_log_val = round(logreg.score(X_val, y_val) * 100, 2)"
   ]
  },
  {
   "cell_type": "code",
   "execution_count": 39,
   "id": "disturbed-cancer",
   "metadata": {
    "scrolled": true
   },
   "outputs": [
    {
     "name": "stdout",
     "output_type": "stream",
     "text": [
      "-----------------\n",
      "LR Confusion Matrix\n",
      "-----------------\n",
      "[[90 20]\n",
      " [19 50]]\n",
      "              precision    recall  f1-score   support\n",
      "\n",
      "           0       0.83      0.82      0.82       110\n",
      "           1       0.71      0.72      0.72        69\n",
      "\n",
      "    accuracy                           0.78       179\n",
      "   macro avg       0.77      0.77      0.77       179\n",
      "weighted avg       0.78      0.78      0.78       179\n",
      "\n",
      "-----------------\n",
      "LR Accuracy score (training): 0.813\n",
      "LR Accuracy score (validation): 0.782\n"
     ]
    }
   ],
   "source": [
    "from sklearn.metrics import classification_report, confusion_matrix, accuracy_score\n",
    "\n",
    "dash = '-' * 17\n",
    "print(dash)\n",
    "print('LR Confusion Matrix')\n",
    "print(dash)\n",
    "print(confusion_matrix(y_val,Y_pred))\n",
    "print(classification_report(y_val,Y_pred))\n",
    "print(dash)\n",
    "# print('LR Accuracy Score (training)')\n",
    "# print(round((accuracy_score(y_val, Y_pred)*100),2))\n",
    "\n",
    "print(\"LR Accuracy score (training): {0:.3f}\".format(logreg.score(X_train, y_train)))\n",
    "print(\"LR Accuracy score (validation): {0:.3f}\".format(logreg.score(X_val, y_val)))"
   ]
  },
  {
   "cell_type": "markdown",
   "id": "aerial-workshop",
   "metadata": {},
   "source": [
    "### K-Nearest Neighbors (kNN)\n",
    "In pattern recognition, the k-Nearest Neighbors algorithm is a non-parametric method used for classification and regression. A sample is classified by a majority vote of its neighbors, with the sample being assigned to the class most common among its k nearest neighbors (k is a positive integer, typically small). If k = 1, then the object is simply assigned to the class of that single nearest neighbor. Reference Wikipedia."
   ]
  },
  {
   "cell_type": "code",
   "execution_count": 40,
   "id": "narrative-establishment",
   "metadata": {},
   "outputs": [],
   "source": [
    "knn = KNeighborsClassifier(n_neighbors = 3)\n",
    "knn.fit(X_train, y_train)\n",
    "Y_pred = knn.predict(X_val)\n",
    "acc_knn = round(knn.score(X_train, y_train) * 100, 2)\n",
    "acc_knn_val = round(knn.score(X_val, y_val) * 100, 2)"
   ]
  },
  {
   "cell_type": "code",
   "execution_count": 41,
   "id": "exempt-difficulty",
   "metadata": {},
   "outputs": [
    {
     "name": "stdout",
     "output_type": "stream",
     "text": [
      "-----------------\n",
      "kNN Confusion Matrix\n",
      "-----------------\n",
      "[[99 11]\n",
      " [22 47]]\n",
      "              precision    recall  f1-score   support\n",
      "\n",
      "           0       0.82      0.90      0.86       110\n",
      "           1       0.81      0.68      0.74        69\n",
      "\n",
      "    accuracy                           0.82       179\n",
      "   macro avg       0.81      0.79      0.80       179\n",
      "weighted avg       0.82      0.82      0.81       179\n",
      "\n",
      "-----------------\n",
      "kNN Accuracy score (training): 0.851\n",
      "kNN Accuracy score (validation): 0.816\n"
     ]
    }
   ],
   "source": [
    "dash = '-' * 17\n",
    "print(dash)\n",
    "print('kNN Confusion Matrix')\n",
    "print(dash)\n",
    "print(confusion_matrix(y_val,Y_pred))\n",
    "print(classification_report(y_val,Y_pred))\n",
    "print(dash)\n",
    "print(\"kNN Accuracy score (training): {0:.3f}\".format(knn.score(X_train, y_train)))\n",
    "print(\"kNN Accuracy score (validation): {0:.3f}\".format(knn.score(X_val, y_val)))"
   ]
  },
  {
   "cell_type": "markdown",
   "id": "collect-pilot",
   "metadata": {},
   "source": [
    "### Random Forest\n",
    "\n",
    "Bootstrap aggregating, bagging, involves having each model in the ensemble vote with equal weight. In order to promote model variance, bagging trains each model in the ensemble using a randomly drawn subset of the training set. As an example, the random forest algorithm combines random decision trees with bagging to achieve very high classification accuracy. In bagging the samples are generated in such a way that the samples are different from each other however replacement is allowed. Random forests are an ensemble learning method for classification, regression and other tasks like variable importance, etc."
   ]
  },
  {
   "cell_type": "code",
   "execution_count": 42,
   "id": "unexpected-insulation",
   "metadata": {},
   "outputs": [],
   "source": [
    "random_forest = RandomForestClassifier(n_estimators=100)\n",
    "\n",
    "random_forest.fit(X_train, y_train)\n",
    "Y_pred = random_forest.predict(X_val)\n",
    "random_forest.score(X_train, y_train)\n",
    "acc_random_forest = round(random_forest.score(X_train, y_train) * 100, 2)\n",
    "acc_random_forest_val = round(random_forest.score(X_val, y_val) * 100, 2)"
   ]
  },
  {
   "cell_type": "code",
   "execution_count": 43,
   "id": "happy-monitor",
   "metadata": {},
   "outputs": [
    {
     "name": "stdout",
     "output_type": "stream",
     "text": [
      "-----------------\n",
      "RF Confusion Matrix\n",
      "-----------------\n",
      "[[99 11]\n",
      " [20 49]]\n",
      "              precision    recall  f1-score   support\n",
      "\n",
      "           0       0.83      0.90      0.86       110\n",
      "           1       0.82      0.71      0.76        69\n",
      "\n",
      "    accuracy                           0.83       179\n",
      "   macro avg       0.82      0.81      0.81       179\n",
      "weighted avg       0.83      0.83      0.82       179\n",
      "\n",
      "-----------------\n",
      "RF Accuracy score (training): 0.868\n",
      "RF Accuracy score (validation): 0.827\n"
     ]
    }
   ],
   "source": [
    "\n",
    "print(dash)\n",
    "print('RF Confusion Matrix')\n",
    "print(dash)\n",
    "print(confusion_matrix(y_val,Y_pred))\n",
    "print(classification_report(y_val,Y_pred))\n",
    "print(dash)\n",
    "print(\"RF Accuracy score (training): {0:.3f}\".format(random_forest.score(X_train, y_train))) # 87.0\n",
    "print(\"RF Accuracy score (validation): {0:.3f}\".format(random_forest.score(X_val, y_val))) # 82.5"
   ]
  },
  {
   "cell_type": "markdown",
   "id": "occupational-accessory",
   "metadata": {},
   "source": [
    "## Boosting Algorithms \n",
    "play a crucial role in dealing with bias variance trade-off.  Unlike bagging algorithms, which only controls for high variance in a model, boosting controls both aspects (bias & variance), and is considered to be more effective.  \n",
    "Boosting is a sequential technique which works on the principle of ensemble. It combines a set of weak learners and delivers improved prediction accuracy. At any instant t, the model outcomes are weighed based on the outcomes of previous instant t-1. The outcomes predicted correctly are given a lower weight and the ones miss-classified are weighted higher. \n",
    "\n",
    "Boosting involves incrementally building an ensemble by training each new model instance to emphasize the training instances that previous models mis-classified. In some cases, boosting has been shown to yield better accuracy than bagging, but it also tends to be more likely to over-fit the training data. By far, the most common implementation of boosting is Adaboost, although some newer algorithms are reported to achieve better results.[citation needed]\n",
    "\n",
    "In Boosting, an equal weight (uniform probability distribution) is given to the sample training data (say D1) at the very starting round. This data (D1) is then given to a base learner (say L1). The mis-classified instances by L1 are assigned a weight higher than the correctly classified instances, but keeping in mind that the total probability distribution will be equal to 1. This boosted data (say D2) is then given to second base learner (say L2) and so on. The results are then combined in the form of voting.\n",
    "\n",
    "\n",
    "### Gradient Boosting \n",
    "builds the model in a stage-wise fashion like other boosting methods do, and it generalizes them by allowing optimization of an arbitrary differentiable loss function. Gradient boosting can be challenging to configure as the algorithm as many key hyperparameters that influence the behavior of the model on training data and the hyperparameters interact with each other. Reasonable rresults found at the default settings, but plan to explore optimal settings. For additional information about GBM and tuning the model visit https://www.analyticsvidhya.com/blog/2016/02/complete-guide-parameter-tuning-gradient-boosting-gbm-python/"
   ]
  },
  {
   "cell_type": "code",
   "execution_count": 44,
   "id": "bibliographic-hospital",
   "metadata": {},
   "outputs": [],
   "source": [
    "# Gradient Boosting (GBM)\n",
    "# acc_gbm = mean(n_scores)*100\n",
    "# acc_gbm\n",
    "\n",
    "gbm = GradientBoostingClassifier(n_estimators=20, learning_rate=0.5, max_features=2, max_depth=2, random_state=0)\n",
    "gbm.fit(X_train, y_train)\n",
    "Y_pred = gbm.predict(X_val)\n",
    "acc_gbm = round(gbm.score(X_train, y_train) * 100, 2)\n",
    "acc_gbm_val = round(gbm.score(X_val, y_val) * 100, 2)\n",
    "\n",
    "# print('Mean Accuracy: %.2f (%.2f)' % (mean(n_scores)*100, std(n_scores)*100))\n"
   ]
  },
  {
   "cell_type": "code",
   "execution_count": 45,
   "id": "executed-montgomery",
   "metadata": {},
   "outputs": [
    {
     "name": "stdout",
     "output_type": "stream",
     "text": [
      "-----------------\n",
      "GBM Confusion Matrix\n",
      "-----------------\n",
      "[[97 13]\n",
      " [22 47]]\n",
      "              precision    recall  f1-score   support\n",
      "\n",
      "           0       0.82      0.88      0.85       110\n",
      "           1       0.78      0.68      0.73        69\n",
      "\n",
      "    accuracy                           0.80       179\n",
      "   macro avg       0.80      0.78      0.79       179\n",
      "weighted avg       0.80      0.80      0.80       179\n",
      "\n",
      "-----------------\n",
      "GBM Accuracy score (training): 0.833\n",
      "GBM Accuracy score (validation): 0.804\n"
     ]
    }
   ],
   "source": [
    "print(dash)\n",
    "print('GBM Confusion Matrix')\n",
    "print(dash)\n",
    "print(confusion_matrix(y_val,Y_pred))\n",
    "print(classification_report(y_val,Y_pred))\n",
    "print(dash)\n",
    "print(\"GBM Accuracy score (training): {0:.3f}\".format(gbm.score(X_train, y_train)))\n",
    "print(\"GBM Accuracy score (validation): {0:.3f}\".format(gbm.score(X_val, y_val)))\n",
    "\n",
    "\n",
    "# print('GBM Accuracy Score')\n",
    "# print(round((accuracy_score(y_val, Y_pred)*100),2))"
   ]
  },
  {
   "cell_type": "markdown",
   "id": "perfect-gravity",
   "metadata": {},
   "source": [
    "### Extreme Gradient Boosting (XGBoosting)\n",
    "\n",
    "Boosting algorithms build a weak model(i.e. predictions slightly >50%), making conclusions about the various feature importance and parameters, and then using those conclusions to build a new, stronger model and capitalize on the misclassification error of the previous model and try to reduce it. XGBoost is a decision-tree-based ensemble Machine Learning algorithm that uses a gradient boosting framework. XGBoost and gradient boosting machines are both ensemble tree methods that apply the principle of boosting weak learners using the gradient descent architecture. However, XGBoost improves upon the base gradient boosting framework through systems optimization and algorithmic enhancements  \n",
    "such as:  \n",
    " - hardware optimization & parallelized tree building\n",
    " - efficient handling of missing data, tree pruning using ‘depth-first’ approach\n",
    " - built-in cross-validation capability (at each iteration)  \n",
    " - regularization through both LASSO (L1) and Ridge (L2) for avoiding overfitting\n",
    "\n",
    "for additional information about the XGB model and tuning visit https://www.analyticsvidhya.com/blog/2016/03/complete-guide-parameter-tuning-xgboost-with-codes-python/"
   ]
  },
  {
   "cell_type": "code",
   "execution_count": 59,
   "id": "original-singles",
   "metadata": {},
   "outputs": [
    {
     "data": {
      "image/png": "[encoded data removed]",
      "text/plain": [
       "<Figure size 864x432 with 1 Axes>"
      ]
     },
     "metadata": {},
     "output_type": "display_data"
    }
   ],
   "source": [
    "# XGBoosting\n",
    "XGB = XGBClassifier(n_estimators=4200, eta=0.018, subsample=0.5, colsample_bytree=0.5)\n",
    "\n",
    "# define the datasets to evaluate each iteration\n",
    "evalset = [(X_train, y_train), (X_val,y_val)]\n",
    "XGB.fit(X_train, y_train, eval_metric='logloss', eval_set=evalset, verbose=False)\n",
    "Y_pred = XGB.predict(X_val)\n",
    "# retrieve performance metrics\n",
    "results = XGB.evals_result()\n",
    "# plot learning curves\n",
    "plt.figure(figsize=(12, 6))\n",
    "plt.plot(results['validation_0']['logloss'], label='train')\n",
    "plt.plot(results['validation_1']['logloss'], label='validation')\n",
    "plt.xlabel(\"n_estimators\")\n",
    "plt.ylabel(\"neg log loss\" )\n",
    "plt.title(\"Neg Log Loss Learning Curve\")\n",
    "plt.legend()\n",
    "plt.show()\n",
    "\n",
    "# Running fits the XGBoost model, retrieves the calculated metrics, and plots learning curves.\n",
    "# Can experiment with Hyperparamaters and see impact on curve! \n",
    "\n",
    "acc_xgb = round(XGB.score(X_train, y_train) * 100, 2)\n",
    "acc_xgb_val = round(XGB.score(X_val, y_val) * 100, 2)"
   ]
  },
  {
   "cell_type": "markdown",
   "id": "6d79eaae",
   "metadata": {},
   "source": [
    "### Log loss learning curve plot\n",
    "The learning objective is logistic regression for binary classification and the evaluation metric is the negative log loss. The training and validation data are both plotted. The training data continues to improve with a decrease in the neg log loss value. Plot shows training curve decreasing, but validation curve flattens at about 150 iterations indicating potential overfitting considering training data beyond this point. \n",
    "\n",
    "### Hyperparameter Tuning\n",
    "The Optuna hyperparameter framework was used to identify potential hyperparamenter settings for the XGB model. Using the suggested values did not improve the performance obtained by manual adjustment of the four settings used that were discovered by adjustments suggested by the log loss curve. Selected settings are shown in the XGB classifier statement."
   ]
  },
  {
   "cell_type": "code",
   "execution_count": 74,
   "id": "forced-service",
   "metadata": {},
   "outputs": [
    {
     "name": "stdout",
     "output_type": "stream",
     "text": [
      "-----------------\n",
      "XGB Confusion Matrix\n",
      "-----------------\n",
      "[[100  10]\n",
      " [ 19  50]]\n",
      "              precision    recall  f1-score   support\n",
      "\n",
      "           0       0.84      0.91      0.87       110\n",
      "           1       0.83      0.72      0.78        69\n",
      "\n",
      "    accuracy                           0.84       179\n",
      "   macro avg       0.84      0.82      0.82       179\n",
      "weighted avg       0.84      0.84      0.84       179\n",
      "\n",
      "-----------------\n",
      "XGB Accuracy score (training):  86.38\n",
      "XGB Accuracy score (validation):  83.8\n"
     ]
    }
   ],
   "source": [
    "print(dash)\n",
    "print('XGB Confusion Matrix')\n",
    "print(dash)\n",
    "print(confusion_matrix(y_val,Y_pred))\n",
    "print(classification_report(y_val,Y_pred))\n",
    "print(dash)\n",
    "\n",
    "print(\"XGB Accuracy score (training): \", acc_xgb)\n",
    "print(\"XGB Accuracy score (validation): \", acc_xgb_val)\n",
    "\n",
    "# print(\"XGB Accuracy score (training): {0:.3f}\".format(xgb.score(X_train, y_train)))\n",
    "# print(\"XGB Accuracy score (validation): {0:.3f}\".format(xgb.score(X_val, y_val)))\n",
    "\n",
    "# print('GBM Accuracy Score')\n",
    "# print(round((accuracy_score(y_val, Y_pred)*100),2))"
   ]
  },
  {
   "cell_type": "code",
   "execution_count": 62,
   "id": "brave-resort",
   "metadata": {},
   "outputs": [
    {
     "name": "stdout",
     "output_type": "stream",
     "text": [
      "0.819327098110602\n"
     ]
    }
   ],
   "source": [
    "cv_results = cross_validate(XGB,\n",
    "                                    X,\n",
    "                                    y,\n",
    "                                    cv = 5,\n",
    "                                    n_jobs = -1)\n",
    "print(cv_results['test_score'].mean())"
   ]
  },
  {
   "cell_type": "markdown",
   "id": "7706d4f4",
   "metadata": {},
   "source": [
    "### AdaBoost\n",
    "Adaboost, short for Adaptive Boosting, is a statistical classification meta-algorithm.It can be used in conjunction with many other types of learning algorithms to improve performance. The output of the other learning algorithms ('weak learners') is combined into a weighted sum that represents the final output of the boosted classifier. AdaBoost is adaptive in the sense that subsequent weak learners are tweaked in favor of those instances misclassified by previous classifiers. The individual learners can be weak, but as long as the performance of each one is slightly better than random guessing, the final model can be proven to converge to a strong learner.\n",
    "\n",
    "Every learning algorithm tends to suit some problem types better than others, and typically has many different parameters and configurations to adjust before it achieves optimal performance on a dataset. AdaBoost (with decision trees as the weak learners) is often referred to as the best out-of-the-box classifier.[1][2] When used with decision tree learning, information gathered at each stage of the AdaBoost algorithm about the relative 'hardness' of each training sample is fed into the tree growing algorithm such that later trees tend to focus on harder-to-classify examples."
   ]
  },
  {
   "cell_type": "code",
   "execution_count": 67,
   "id": "weird-locator",
   "metadata": {},
   "outputs": [
    {
     "name": "stdout",
     "output_type": "stream",
     "text": [
      "acc adaboost = 82.4438\n"
     ]
    }
   ],
   "source": [
    "# AdaBoost\n",
    "adaboost = AdaBoostClassifier()\n",
    "adaboost.fit(X_train, y_train)\n",
    "# Y_pred_ada = adaboost.predict(X_test)\n",
    "\n",
    "acc_adaboost = round(adaboost.score(X_train, y_train)*100, 4)\n",
    "acc_adaboost_val = round(adaboost.score(X_val, y_val)*100, 4)\n",
    "print(\"acc adaboost =\", acc_adaboost)"
   ]
  },
  {
   "cell_type": "markdown",
   "id": "effective-fever",
   "metadata": {},
   "source": [
    "<h1>ML Model Comparisons</h1><a id='prep_ml'></a>\n",
    "\n",
    " - Models sorted by their training data single accuracy scores.\n"
   ]
  },
  {
   "cell_type": "code",
   "execution_count": 69,
   "id": "funny-developer",
   "metadata": {},
   "outputs": [
    {
     "data": {
      "text/html": [
       "<div>\n",
       "<style scoped>\n",
       "    .dataframe tbody tr th:only-of-type {\n",
       "        vertical-align: middle;\n",
       "    }\n",
       "\n",
       "    .dataframe tbody tr th {\n",
       "        vertical-align: top;\n",
       "    }\n",
       "\n",
       "    .dataframe thead th {\n",
       "        text-align: right;\n",
       "    }\n",
       "</style>\n",
       "<table border=\"1\" class=\"dataframe\">\n",
       "  <thead>\n",
       "    <tr style=\"text-align: right;\">\n",
       "      <th></th>\n",
       "      <th>Model</th>\n",
       "      <th>Training Score</th>\n",
       "      <th>Validation Score</th>\n",
       "    </tr>\n",
       "  </thead>\n",
       "  <tbody>\n",
       "    <tr>\n",
       "      <th>2</th>\n",
       "      <td>Random Forest</td>\n",
       "      <td>86.8000</td>\n",
       "      <td>82.6800</td>\n",
       "    </tr>\n",
       "    <tr>\n",
       "      <th>4</th>\n",
       "      <td>XGB</td>\n",
       "      <td>86.3800</td>\n",
       "      <td>83.8000</td>\n",
       "    </tr>\n",
       "    <tr>\n",
       "      <th>1</th>\n",
       "      <td>KNN</td>\n",
       "      <td>85.1100</td>\n",
       "      <td>81.5600</td>\n",
       "    </tr>\n",
       "    <tr>\n",
       "      <th>3</th>\n",
       "      <td>GBM</td>\n",
       "      <td>83.2900</td>\n",
       "      <td>80.4500</td>\n",
       "    </tr>\n",
       "    <tr>\n",
       "      <th>5</th>\n",
       "      <td>AdaBoost</td>\n",
       "      <td>82.4438</td>\n",
       "      <td>78.2123</td>\n",
       "    </tr>\n",
       "    <tr>\n",
       "      <th>0</th>\n",
       "      <td>Logistic Regression</td>\n",
       "      <td>81.3200</td>\n",
       "      <td>78.2100</td>\n",
       "    </tr>\n",
       "  </tbody>\n",
       "</table>\n",
       "</div>"
      ],
      "text/plain": [
       "                 Model  Training Score  Validation Score\n",
       "2        Random Forest         86.8000           82.6800\n",
       "4                  XGB         86.3800           83.8000\n",
       "1                  KNN         85.1100           81.5600\n",
       "3                  GBM         83.2900           80.4500\n",
       "5             AdaBoost         82.4438           78.2123\n",
       "0  Logistic Regression         81.3200           78.2100"
      ]
     },
     "execution_count": 69,
     "metadata": {},
     "output_type": "execute_result"
    }
   ],
   "source": [
    "models = pd.DataFrame({\n",
    "    'Model': ['Logistic Regression', 'KNN', 'Random Forest', 'GBM', 'XGB', 'AdaBoost'],\n",
    "    'Training Score': [acc_log, acc_knn, acc_random_forest, acc_gbm, acc_xgb, acc_adaboost],\n",
    "    'Validation Score': [acc_log_val, acc_knn_val, acc_random_forest_val, acc_gbm_val, acc_xgb_val, acc_adaboost_val]})\n",
    "\n",
    "models.sort_values(by='Training Score', ascending=False)"
   ]
  },
  {
   "cell_type": "markdown",
   "id": "naval-california",
   "metadata": {},
   "source": [
    "## Generate and Plot ROC Curves for Comparison"
   ]
  },
  {
   "cell_type": "code",
   "execution_count": 75,
   "id": "pursuant-belle",
   "metadata": {},
   "outputs": [
    {
     "name": "stdout",
     "output_type": "stream",
     "text": [
      "[11:11:38] WARNING: ../src/learner.cc:1061: Starting in XGBoost 1.3.0, the default evaluation metric used with the objective 'binary:logistic' was changed from 'error' to 'logloss'. Explicitly set eval_metric if you'd like to restore the old behavior.\n"
     ]
    }
   ],
   "source": [
    "# The logistic regression model\n",
    "lm = LogisticRegression()\n",
    "lm.fit(X_train, y_train)\n",
    "y_pred_lm = lm.predict_proba(X_val)[:, 1]\n",
    "fpr_lm, tpr_lm, _ = roc_curve(y_val, y_pred_lm)\n",
    "\n",
    "# The KNN model\n",
    "knn = KNeighborsClassifier(n_neighbors = 3)\n",
    "knn.fit(X_train, y_train)\n",
    "y_pred_knn = knn.predict_proba(X_val)[:, 1]\n",
    "fpr_knn, tpr_knn, _ = roc_curve(y_val, y_pred_knn)\n",
    "\n",
    "# The Random Forest model\n",
    "rf = RandomForestClassifier(n_estimators=100)\n",
    "rf.fit(X_train, y_train)\n",
    "y_pred_rf = rf.predict_proba(X_val)[:, 1]\n",
    "fpr_rf, tpr_rf, _ = roc_curve(y_val, y_pred_rf)\n",
    "\n",
    "# GradientBoostingClassifier() \n",
    "gbm = GradientBoostingClassifier(n_estimators=10)\n",
    "model = GradientBoostingClassifier(n_estimators=10) \n",
    "cv = RepeatedStratifiedKFold(n_splits=10, n_repeats=3, random_state=1)\n",
    "n_scores = cross_val_score(model, X_train, y_train, scoring='accuracy', cv=cv, n_jobs=-1, error_score='raise')\n",
    "gbm.fit(X_train, y_train)\n",
    "y_pred_gbm = gbm.predict_proba(X_val)[:, 1]\n",
    "fpr_gbm, tpr_gbm, _ = roc_curve(y_val, y_pred_gbm)\n",
    "\n",
    "# The XGB model\n",
    "xgb = XGBClassifier(n_estimators=5000, eta=0.02, subsample=0.5, colsample_bytree=0.5)\n",
    "xgb.fit(X_train, y_train)\n",
    "y_pred_xgb = xgb.predict_proba(X_val)[:, 1]\n",
    "fpr_xgb, tpr_xgb, _ = roc_curve(y_val, y_pred_xgb)\n",
    "\n",
    "# AdaBoost\n",
    "adaboost = AdaBoostClassifier()\n",
    "adaboost.fit(X_train, y_train)\n",
    "y_pred_ada = adaboost.predict_proba(X_val)[:, 1]\n",
    "fpr_ada, tpr_ada, _ = roc_curve(y_val, y_pred_ada)\n"
   ]
  },
  {
   "cell_type": "markdown",
   "id": "auburn-moment",
   "metadata": {},
   "source": [
    "### ROC Results\n",
    "\n",
    "A Receiver Operator Characteristic (ROC) curve is a graphical plot used to show the diagnostic ability of binary classifiers. It was first used in signal detection theory but is now used in many other areas such as medicine, radiology, natural hazards and machine learning. The ROC curve is the plot between the True Positive rate and the False positive rate (aka Sensitivity) and the (1-Specificity). Note that the ROC does not depend on the class distribution. This makes it useful for evaluating classifiers predicting rare events such as diseases or disasters.  \n",
    "\n",
    "To compare different classifiers, it can be useful to summarize the performance of each classifier into a single measure. One common approach is to calculate the area under the ROC curve (AUC). It is equivalent to the probability that a randomly chosen positive instance is ranked higher than a randomly chosen negative instance.\n",
    "\n",
    "The ROC plot shows Random Forest and Extreme Gradient Boosting, XGB, relatively better at the 0.1 false positive rate."
   ]
  },
  {
   "cell_type": "code",
   "execution_count": 76,
   "id": "first-british",
   "metadata": {},
   "outputs": [
    {
     "data": {
      "image/png": "[encoded data removed]",
      "text/plain": [
       "<Figure size 864x576 with 1 Axes>"
      ]
     },
     "metadata": {},
     "output_type": "display_data"
    }
   ],
   "source": [
    "plt.subplots(figsize=(12,8))\n",
    "plt.figure(1)\n",
    "plt.plot([0, 1], [0, 1], 'k--')\n",
    "plt.plot(fpr_lm, tpr_lm, label='LogReg')\n",
    "plt.plot(fpr_rf, tpr_rf, label='RandFor')\n",
    "# plt.plot(fpr_svm, tpr_svm, label='SVM')\n",
    "plt.plot(fpr_knn, tpr_knn, label='kNN')\n",
    "# plt.plot(fpr_sgd, tpr_sgd, label='SGD')\n",
    "plt.plot(fpr_gbm, tpr_gbm, label='GBM')\n",
    "\n",
    "plt.plot(fpr_xgb, tpr_xgb, label='XGB')\n",
    "\n",
    "plt.plot(fpr_ada, tpr_ada, label='AdaBoost')\n",
    "\n",
    "plt.xlabel('False positive rate (1-Specificity)')\n",
    "plt.ylabel('True positive rate (Sensitivity)')\n",
    "plt.title('ROC Curve', fontsize=20)\n",
    "plt.legend(loc='best')\n",
    "plt.show()"
   ]
  },
  {
   "cell_type": "markdown",
   "id": "complex-taxation",
   "metadata": {},
   "source": [
    "<h1>ROC and K-Fold CV Model Comparison Results</h1><a id='ml_models'></a>\n",
    "\n",
    "\n",
    "### K-fold cross-validation Mean Accuracy\n",
    "The k-fold cross-validation procedure divides a limited dataset into k non-overlapping folds. Each of the k folds is given an opportunity to be used as a held-back test set, whilst all other folds collectively are used as a training dataset. A total of k models are fit and evaluated on the k hold-out test sets and the mean performance is reported.\n",
    "\n",
    " - Below is a function that applies K-fold CV for each of the models. It takes full train data and target, list of estimators and list of labels(names of estimators), cross validation splitting strategy, returning a dataframe with results of the tests. The fit time is also provided and you can see the significant relative additional time for the Extreme Gradient Boosting method to complete. "
   ]
  },
  {
   "cell_type": "code",
   "execution_count": 73,
   "id": "afraid-conversation",
   "metadata": {
    "scrolled": false
   },
   "outputs": [
    {
     "data": {
      "text/html": [
       "<style  type=\"text/css\" >\n",
       "#T_9c2cc_row0_col1,#T_9c2cc_row0_col3,#T_9c2cc_row5_col2{\n",
       "            background-color:  #08306b;\n",
       "            color:  #f1f1f1;\n",
       "        }#T_9c2cc_row0_col2{\n",
       "            background-color:  #4292c6;\n",
       "            color:  #000000;\n",
       "        }#T_9c2cc_row1_col1{\n",
       "            background-color:  #7cb7da;\n",
       "            color:  #000000;\n",
       "        }#T_9c2cc_row1_col2{\n",
       "            background-color:  #2272b6;\n",
       "            color:  #f1f1f1;\n",
       "        }#T_9c2cc_row1_col3,#T_9c2cc_row4_col3{\n",
       "            background-color:  #f6faff;\n",
       "            color:  #000000;\n",
       "        }#T_9c2cc_row2_col1{\n",
       "            background-color:  #7db8da;\n",
       "            color:  #000000;\n",
       "        }#T_9c2cc_row2_col2{\n",
       "            background-color:  #cee0f2;\n",
       "            color:  #000000;\n",
       "        }#T_9c2cc_row2_col3,#T_9c2cc_row3_col3,#T_9c2cc_row4_col2,#T_9c2cc_row5_col1,#T_9c2cc_row5_col3{\n",
       "            background-color:  #f7fbff;\n",
       "            color:  #000000;\n",
       "        }#T_9c2cc_row3_col1{\n",
       "            background-color:  #cbdef1;\n",
       "            color:  #000000;\n",
       "        }#T_9c2cc_row3_col2{\n",
       "            background-color:  #e7f0fa;\n",
       "            color:  #000000;\n",
       "        }#T_9c2cc_row4_col1{\n",
       "            background-color:  #e9f2fa;\n",
       "            color:  #000000;\n",
       "        }</style><table id=\"T_9c2cc_\" ><thead>    <tr>        <th class=\"blank level0\" ></th>        <th class=\"col_heading level0 col0\" >Model Name</th>        <th class=\"col_heading level0 col1\" >CV Mean Accuracy</th>        <th class=\"col_heading level0 col2\" >CV Std</th>        <th class=\"col_heading level0 col3\" >Fit Time</th>    </tr></thead><tbody>\n",
       "                <tr>\n",
       "                        <th id=\"T_9c2cc_level0_row0\" class=\"row_heading level0 row0\" >4</th>\n",
       "                        <td id=\"T_9c2cc_row0_col0\" class=\"data row0 col0\" >Extreme Gradient Boosting</td>\n",
       "                        <td id=\"T_9c2cc_row0_col1\" class=\"data row0 col1\" >0.817129</td>\n",
       "                        <td id=\"T_9c2cc_row0_col2\" class=\"data row0 col2\" >0.043133</td>\n",
       "                        <td id=\"T_9c2cc_row0_col3\" class=\"data row0 col3\" >18.296919</td>\n",
       "            </tr>\n",
       "            <tr>\n",
       "                        <th id=\"T_9c2cc_level0_row1\" class=\"row_heading level0 row1\" >2</th>\n",
       "                        <td id=\"T_9c2cc_row1_col0\" class=\"data row1 col0\" >Random Forest</td>\n",
       "                        <td id=\"T_9c2cc_row1_col1\" class=\"data row1 col1\" >0.809276</td>\n",
       "                        <td id=\"T_9c2cc_row1_col2\" class=\"data row1 col2\" >0.045640</td>\n",
       "                        <td id=\"T_9c2cc_row1_col3\" class=\"data row1 col3\" >0.131766</td>\n",
       "            </tr>\n",
       "            <tr>\n",
       "                        <th id=\"T_9c2cc_level0_row2\" class=\"row_heading level0 row2\" >3</th>\n",
       "                        <td id=\"T_9c2cc_row2_col0\" class=\"data row2 col0\" >Gradient Boosting</td>\n",
       "                        <td id=\"T_9c2cc_row2_col1\" class=\"data row2 col1\" >0.809226</td>\n",
       "                        <td id=\"T_9c2cc_row2_col2\" class=\"data row2 col2\" >0.034667</td>\n",
       "                        <td id=\"T_9c2cc_row2_col3\" class=\"data row2 col3\" >0.016544</td>\n",
       "            </tr>\n",
       "            <tr>\n",
       "                        <th id=\"T_9c2cc_level0_row3\" class=\"row_heading level0 row3\" >0</th>\n",
       "                        <td id=\"T_9c2cc_row3_col0\" class=\"data row3 col0\" >Log Regression</td>\n",
       "                        <td id=\"T_9c2cc_row3_col1\" class=\"data row3 col1\" >0.805855</td>\n",
       "                        <td id=\"T_9c2cc_row3_col2\" class=\"data row3 col2\" >0.032061</td>\n",
       "                        <td id=\"T_9c2cc_row3_col3\" class=\"data row3 col3\" >0.010419</td>\n",
       "            </tr>\n",
       "            <tr>\n",
       "                        <th id=\"T_9c2cc_level0_row4\" class=\"row_heading level0 row4\" >5</th>\n",
       "                        <td id=\"T_9c2cc_row4_col0\" class=\"data row4 col0\" >AdaBoost</td>\n",
       "                        <td id=\"T_9c2cc_row4_col1\" class=\"data row4 col1\" >0.803633</td>\n",
       "                        <td id=\"T_9c2cc_row4_col2\" class=\"data row4 col2\" >0.030340</td>\n",
       "                        <td id=\"T_9c2cc_row4_col3\" class=\"data row4 col3\" >0.083457</td>\n",
       "            </tr>\n",
       "            <tr>\n",
       "                        <th id=\"T_9c2cc_level0_row5\" class=\"row_heading level0 row5\" >1</th>\n",
       "                        <td id=\"T_9c2cc_row5_col0\" class=\"data row5 col0\" >kNN</td>\n",
       "                        <td id=\"T_9c2cc_row5_col1\" class=\"data row5 col1\" >0.802584</td>\n",
       "                        <td id=\"T_9c2cc_row5_col2\" class=\"data row5 col2\" >0.050853</td>\n",
       "                        <td id=\"T_9c2cc_row5_col3\" class=\"data row5 col3\" >0.002647</td>\n",
       "            </tr>\n",
       "    </tbody></table>"
      ],
      "text/plain": [
       "<pandas.io.formats.style.Styler at 0x7fb7e8a43460>"
      ]
     },
     "execution_count": 73,
     "metadata": {},
     "output_type": "execute_result"
    }
   ],
   "source": [
    "def test_estimators(X, y, estimators, labels, cv):\n",
    "    result_table = pd.DataFrame()\n",
    "    \n",
    "    row_index = 0\n",
    "    for est, label in zip(estimators, labels):\n",
    "\n",
    "        est_name = label\n",
    "        result_table.loc[row_index, 'Model Name'] = est_name\n",
    "\n",
    "        cv_results = cross_validate(est,\n",
    "                                    X,\n",
    "                                    y,\n",
    "                                    cv = cv,\n",
    "                                    n_jobs = -1)\n",
    "\n",
    "        result_table.loc[row_index, 'CV Mean Accuracy'] = cv_results['test_score'].mean()\n",
    "        result_table.loc[row_index, 'CV Std'] = cv_results['test_score'].std()\n",
    "        result_table.loc[row_index, 'Fit Time'] = cv_results['fit_time'].mean()\n",
    "\n",
    "        row_index += 1\n",
    "\n",
    "    result_table.sort_values(by=['CV Mean Accuracy'], ascending = False, inplace = True)\n",
    "\n",
    "    return result_table\n",
    "\n",
    "lr = LogisticRegression()\n",
    "knn = KNeighborsClassifier(n_neighbors = 3)\n",
    "rf = RandomForestClassifier(random_state = 1)\n",
    "gbm = GradientBoostingClassifier(n_estimators=20, random_state=0)\n",
    "xgb = XGBClassifier(n_estimators=4200, eta=0.018, early_stopping_rounds=50, subsample=0.5, colsample_bytree=0.5)\n",
    "ada = AdaBoostClassifier()\n",
    "\n",
    "estimators = [lr,\n",
    "              knn,\n",
    "              rf,\n",
    "              gbm,\n",
    "              xgb,\n",
    "              ada,\n",
    "              ]\n",
    "\n",
    "labels = ['Log Regression',\n",
    "          'kNN',\n",
    "          'Random Forest',\n",
    "          'Gradient Boosting', \n",
    "          'Extreme Gradient Boosting',\n",
    "          'AdaBoost',]\n",
    "\n",
    "results = test_estimators(X, y, estimators, labels, cv = 10)\n",
    "results.style.background_gradient(cmap = 'Blues')\n"
   ]
  },
  {
   "cell_type": "markdown",
   "id": "passive-range",
   "metadata": {},
   "source": [
    "### Potential follow up\n",
    " - Compare model results for before / after applied feature engineering datasets.\n",
    " - How do results of normalized dataset compare to implemented feature engineering dataset. (Preliminary results indicate feature engineering dataset, with added created fields, make models slightly more accurate). \n",
    " - Check alternative imputing options for NAs.  \n",
    " - Review One Hot Encoding for mapping changes for Categorical fields (e.g. Sex, Embarked) \n",
    " - Perform alternative Hyperparameter Tuning for the models. Optuna used for XGB, suggested values ending up in a decrease in accuracy. Parameters were adjusted based on review of the Log Loss curves above for the XGB model.    "
   ]
  },
  {
   "cell_type": "markdown",
   "id": "excess-contribution",
   "metadata": {},
   "source": [
    "## Inspirations Below:\n",
    "\n",
    "Sabarish Sridhar - https://www.kaggle.com/dudewhat/titanic-with-random-forest-top-7\n",
    "\n",
    "Manav Sehgal - https://www.kaggle.com/startupsci/titanic-data-science-solutions\n",
    "\n",
    "Jason Brownlee - https://machinelearningmastery.com/tune-xgboost-performance-with-learning-curves/\n",
    "    \n",
    "sklearn - https://scikit-learn.org/stable/auto_examples/ensemble/plot_feature_transformation.html#sphx-glr-download-auto-examples-ensemble-plot-feature-transformation-py\n",
    "    \n",
    "TowardsDataScience - https://towardsdatascience.com/hyperparameter-tuning-the-random-forest-in-python-using-scikit-learn-28d2aa77dd74\n",
    "    \n",
    "Error - https://www.analyticsvidhya.com/blog/2019/08/11-important-model-evaluation-error-metrics/?utm_source=blog&utm_medium=decision-tree-vs-random-forest-algorithm\n",
    "\n",
    "ROC - https://www.displayr.com/what-is-a-roc-curve-how-to-interpret-it/    "
   ]
  }
 ],
 "metadata": {
  "kernelspec": {
   "display_name": "Python 3",
   "language": "python",
   "name": "python3"
  },
  "language_info": {
   "codemirror_mode": {
    "name": "ipython",
    "version": 3
   },
   "file_extension": ".py",
   "mimetype": "text/x-python",
   "name": "python",
   "nbconvert_exporter": "python",
   "pygments_lexer": "ipython3",
   "version": "3.8.5"
  }
 },
 "nbformat": 4,
 "nbformat_minor": 5
}
